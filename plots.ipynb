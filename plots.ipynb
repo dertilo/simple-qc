{
 "cells": [
  {
   "cell_type": "code",
   "execution_count": 1,
   "metadata": {},
   "outputs": [],
   "source": [
    "import pandas as pd"
   ]
  },
  {
   "cell_type": "code",
   "execution_count": 11,
   "metadata": {},
   "outputs": [
    {
     "name": "stdout",
     "output_type": "stream",
     "text": [
      "100 0.6594285714285714\n",
      "200 0.718\n",
      "300 0.7493333333333333\n",
      "400 0.78\n"
     ]
    }
   ],
   "source": [
    "results = pd.read_csv('results/DISEQuA_DUT_svm_bow.csv')\n",
    "for train_size in results.train_size.unique():\n",
    "    print(train_size, results[results.train_size == train_size].accuracy.mean())"
   ]
  },
  {
   "cell_type": "code",
   "execution_count": 12,
   "metadata": {},
   "outputs": [
    {
     "name": "stdout",
     "output_type": "stream",
     "text": [
      "100 0.7022857142857142\n",
      "200 0.7592\n",
      "300 0.7906666666666666\n",
      "400 0.8099999999999999\n"
     ]
    }
   ],
   "source": [
    "results = pd.read_csv('results/DISEQuA_ENG_svm_bow.csv')\n",
    "for train_size in results.train_size.unique():\n",
    "    print(train_size, results[results.train_size == train_size].accuracy.mean())"
   ]
  },
  {
   "cell_type": "code",
   "execution_count": 13,
   "metadata": {},
   "outputs": [
    {
     "name": "stdout",
     "output_type": "stream",
     "text": [
      "100 0.6857142857142857\n",
      "200 0.7492\n",
      "300 0.7826666666666666\n",
      "400 0.8160000000000001\n"
     ]
    }
   ],
   "source": [
    "results = pd.read_csv('results/DISEQuA_ITA_svm_bow.csv')\n",
    "for train_size in results.train_size.unique():\n",
    "    print(train_size, results[results.train_size == train_size].accuracy.mean())"
   ]
  },
  {
   "cell_type": "code",
   "execution_count": 2,
   "metadata": {},
   "outputs": [
    {
     "name": "stdout",
     "output_type": "stream",
     "text": [
      "100 0.6597142857142857\n",
      "200 0.7396\n",
      "300 0.768\n",
      "400 0.784\n"
     ]
    }
   ],
   "source": [
    "results = pd.read_csv('results/DISEQuA_SPA_svm_bow.csv')\n",
    "for train_size in results.train_size.unique():\n",
    "    print(train_size, results[results.train_size == train_size].accuracy.mean())"
   ]
  },
  {
   "cell_type": "code",
   "execution_count": 3,
   "metadata": {},
   "outputs": [
    {
     "name": "stdout",
     "output_type": "stream",
     "text": [
      "100 0.6191428571428572\n",
      "200 0.7188000000000001\n",
      "300 0.7953333333333334\n",
      "400 0.8019999999999999\n"
     ]
    }
   ],
   "source": [
    "results = pd.read_csv('results/DISEQuA_SPA_lstm_embedding.csv')\n",
    "for train_size in results.train_size.unique():\n",
    "    print(train_size, results[results.train_size == train_size].accuracy.mean())"
   ]
  },
  {
   "cell_type": "code",
   "execution_count": null,
   "metadata": {},
   "outputs": [],
   "source": []
  }
 ],
 "metadata": {
  "kernelspec": {
   "display_name": "qa",
   "language": "python",
   "name": "qa"
  },
  "language_info": {
   "codemirror_mode": {
    "name": "ipython",
    "version": 3
   },
   "file_extension": ".py",
   "mimetype": "text/x-python",
   "name": "python",
   "nbconvert_exporter": "python",
   "pygments_lexer": "ipython3",
   "version": "3.6.7"
  }
 },
 "nbformat": 4,
 "nbformat_minor": 2
}
