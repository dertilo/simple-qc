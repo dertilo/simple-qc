{
 "cells": [
  {
   "cell_type": "code",
   "execution_count": 27,
   "metadata": {},
   "outputs": [],
   "source": [
    "import pandas as pd"
   ]
  },
  {
   "cell_type": "markdown",
   "metadata": {},
   "source": [
    "## UIUC"
   ]
  },
  {
   "cell_type": "markdown",
   "metadata": {},
   "source": [
    "### LSTM + Embedding"
   ]
  },
  {
   "cell_type": "markdown",
   "metadata": {},
   "source": [
    "#### EN"
   ]
  },
  {
   "cell_type": "code",
   "execution_count": 9,
   "metadata": {
    "scrolled": true
   },
   "outputs": [
    {
     "name": "stdout",
     "output_type": "stream",
     "text": [
      "1000 0.8686 0.01376802893262702\n",
      "2000 0.8986666666666666 0.012641838946689011\n",
      "3000 0.8910000000000001 0.14403806968035004\n",
      "4000 0.9194 0.010905866817199029\n",
      "5500 0.9206666666666669 0.01099634212953949\n"
     ]
    }
   ],
   "source": [
    "results = pd.read_csv('results/UIUC_lstm_embedding_en.csv')\n",
    "for train_size in results.train_size.unique():\n",
    "    print(train_size, results[results.train_size == train_size].accuracy.mean(), results[results.train_size == train_size].accuracy.std())"
   ]
  },
  {
   "cell_type": "markdown",
   "metadata": {},
   "source": [
    "#### ES"
   ]
  },
  {
   "cell_type": "code",
   "execution_count": 10,
   "metadata": {},
   "outputs": [
    {
     "name": "stdout",
     "output_type": "stream",
     "text": [
      "1000 0.6380142892338015 0.021598599209934757\n",
      "2000 0.6683665927568367 0.01763948409654789\n",
      "3000 0.6968218773096824 0.014651924359444343\n",
      "4000 0.7005912786400591 0.013254617768959674\n",
      "5500 0.7153978812515397 0.00877079543073203\n"
     ]
    }
   ],
   "source": [
    "results = pd.read_csv('results/UIUC_lstm_embedding_es.csv')\n",
    "for train_size in results.train_size.unique():\n",
    "    print(train_size, results[results.train_size == train_size].accuracy.mean(), results[results.train_size == train_size].accuracy.std())"
   ]
  },
  {
   "cell_type": "markdown",
   "metadata": {},
   "source": [
    "#### PT"
   ]
  },
  {
   "cell_type": "code",
   "execution_count": 11,
   "metadata": {
    "scrolled": true
   },
   "outputs": [
    {
     "name": "stdout",
     "output_type": "stream",
     "text": [
      "1000 0.8612000000000001 0.029857593038772653\n",
      "2000 0.893 0.013243085378597667\n",
      "3000 0.8916000000000001 0.012675254197274182\n",
      "4000 0.8998666666666667 0.01155417026768746\n",
      "5500 0.9001333333333333 0.009246558850443376\n"
     ]
    }
   ],
   "source": [
    "results = pd.read_csv('results/UIUC_lstm_embedding_pt.csv')\n",
    "for train_size in results.train_size.unique():\n",
    "    print(train_size, results[results.train_size == train_size].accuracy.mean(), results[results.train_size == train_size].accuracy.std())"
   ]
  },
  {
   "cell_type": "markdown",
   "metadata": {},
   "source": [
    "### SVM + TFIDF"
   ]
  },
  {
   "cell_type": "markdown",
   "metadata": {},
   "source": [
    "#### EN"
   ]
  },
  {
   "cell_type": "code",
   "execution_count": 12,
   "metadata": {},
   "outputs": [
    {
     "name": "stdout",
     "output_type": "stream",
     "text": [
      "1000 0.7899999999999998 2.2584051416334807e-16\n",
      "2000 0.8419999999999999 2.2584051416334807e-16\n",
      "3000 0.8440000000000002 1.1292025708167404e-16\n",
      "4000 0.8659999999999999 1.1292025708167404e-16\n",
      "5500 0.8640000000000003 2.2584051416334807e-16\n"
     ]
    }
   ],
   "source": [
    "results =screver pd.read_csv('results/UIUC_svm_tfidf_en.csv')\n",
    "for train_size in results.train_size.unique():\n",
    "    print(train_size, results[results.train_size == train_size].accuracy.mean(), results[results.train_size == train_size].accuracy.std())"
   ]
  },
  {
   "cell_type": "markdown",
   "metadata": {},
   "source": [
    "#### ES"
   ]
  },
  {
   "cell_type": "code",
   "execution_count": 13,
   "metadata": {},
   "outputs": [
    {
     "name": "stdout",
     "output_type": "stream",
     "text": [
      "1000 0.759793052475979 3.387607712450221e-16\n",
      "2000 0.764227642276423 2.2584051416334807e-16\n",
      "3000 0.7819660014781964 2.2584051416334807e-16\n",
      "4000 0.7827050997782703 2.2584051416334807e-16\n",
      "5500 0.7915742793791577 2.2584051416334807e-16\n"
     ]
    }
   ],
   "source": [
    "results = pd.read_csv('results/UIUC_svm_tfidf_es.csv')\n",
    "for train_size in results.train_size.unique():\n",
    "    print(train_size, results[results.train_size == train_size].accuracy.mean(), results[results.train_size == train_size].accuracy.std())"
   ]
  },
  {
   "cell_type": "markdown",
   "metadata": {},
   "source": [
    "#### PT"
   ]
  },
  {
   "cell_type": "code",
   "execution_count": 14,
   "metadata": {
    "scrolled": true
   },
   "outputs": [
    {
     "name": "stdout",
     "output_type": "stream",
     "text": [
      "1000 0.7740000000000002 2.2584051416334807e-16\n",
      "2000 0.8159999999999997 2.2584051416334807e-16\n",
      "3000 0.8159999999999997 2.2584051416334807e-16\n",
      "4000 0.8359999999999997 2.2584051416334807e-16\n",
      "5500 0.8500000000000002 2.2584051416334807e-16\n"
     ]
    }
   ],
   "source": [
    "results = pd.read_csv('results/UIUC_svm_tUIUC_svm_tfidf_enfidf_pt.csv')\n",
    "for train_size in results.train_size.unique():\n",
    "    print(train_size, results[results.train_size == train_size].accuracy.mean(), results[results.train_size == train_size].accuracy.std())"
   ]
  },
  {
   "cell_type": "markdown",
   "metadata": {},
   "source": [
    "### RFC + TFIDF"
   ]
  },
  {
   "cell_type": "markdown",
   "metadata": {},
   "source": [
    "#### EN"
   ]
  },
  {
   "cell_type": "code",
   "execution_count": 29,
   "metadata": {},
   "outputs": [
    {
     "name": "stdout",
     "output_type": "stream",
     "text": [
      "1000 0.7194666666666668 0.018246838806675037\n",
      "2000 0.7717999999999999 0.013780045543190842\n",
      "3000 0.7900666666666666 0.012610705176851592\n",
      "4000 0.7994666666666667 0.011494326436546222\n",
      "5500 0.8069333333333333 0.013138344338386908\n"
     ]
    }
   ],
   "source": [
    "results = pd.read_csv('results/UIUC_rfc_tfidf_en.csv')\n",
    "for train_size in results.train_size.unique():\n",
    "    print(train_size, results[results.train_size == train_size].accuracy.mean(), results[results.train_size == train_size].accuracy.std())"
   ]
  },
  {
   "cell_type": "markdown",
   "metadata": {},
   "source": [
    "#### ES"
   ]
  },
  {
   "cell_type": "code",
   "execution_count": 30,
   "metadata": {},
   "outputs": [
    {
     "name": "stdout",
     "output_type": "stream",
     "text": [
      "1000 0.6758068489775806 0.014249242216199783\n",
      "2000 0.7082286277408228 0.010579042993582602\n",
      "3000 0.7300566642030056 0.007682610472925928\n",
      "4000 0.7361665434836167 0.008925248884512812\n",
      "5500 0.7418576003941859 0.007406089344211837\n"
     ]
    }
   ],
   "source": [
    "results = pd.read_csv('results/UIUC_rfc_tfidf_es.csv')\n",
    "for train_size in results.train_size.unique():\n",
    "    print(train_size, results[results.train_size == train_size].accuracy.mean(), results[results.train_size == train_size].accuracy.std())"
   ]
  },
  {
   "cell_type": "markdown",
   "metadata": {},
   "source": [
    "#### PT"
   ]
  },
  {
   "cell_type": "code",
   "execution_count": 31,
   "metadata": {
    "scrolled": true
   },
   "outputs": [
    {
     "name": "stdout",
     "output_type": "stream",
     "text": [
      "1000 0.6752666666666667 0.018940803124168366\n",
      "2000 0.7193333333333334 0.013383812490527853\n",
      "3000 0.7451333333333333 0.01696798879296427\n",
      "4000 0.7594666666666666 0.013513041805995217\n",
      "5500 0.7676 0.015217050328156748\n"
     ]
    }
   ],
   "source": [
    "results = pd.read_csv('results/UIUC_rfc_tfidf_pt.csv')\n",
    "for train_size in results.train_size.unique():\n",
    "    print(train_size, results[results.train_size == train_size].accuracy.mean(), results[results.train_size == train_size].accuracy.std())"
   ]
  },
  {
   "cell_type": "markdown",
   "metadata": {},
   "source": [
    "## DISEQuA"
   ]
  },
  {
   "cell_type": "markdown",
   "metadata": {},
   "source": [
    "### SVM + TFIDF"
   ]
  },
  {
   "cell_type": "markdown",
   "metadata": {},
   "source": [
    "#### ENG"
   ]
  },
  {
   "cell_type": "code",
   "execution_count": 16,
   "metadata": {},
   "outputs": [
    {
     "name": "stdout",
     "output_type": "stream",
     "text": [
      "100 0.696 0.02379809249392074\n",
      "200 0.754 0.013498971154211035\n",
      "300 0.7946666666666667 0.03960296783990303\n",
      "400 0.7939999999999999 0.049933288829530666\n"
     ]
    }
   ],
   "source": [
    "results = pd.read_csv('results/DISEQuA_svm_tfidf_ENG.csv')\n",
    "for train_size in results.train_size.unique():\n",
    "    print(train_size, results[results.train_size == train_size].accuracy.mean(), results[results.train_size == train_size].accuracy.std())"
   ]
  },
  {
   "cell_type": "markdown",
   "metadata": {},
   "source": [
    "#### DUT"
   ]
  },
  {
   "cell_type": "code",
   "execution_count": 17,
   "metadata": {},
   "outputs": [
    {
     "name": "stdout",
     "output_type": "stream",
     "text": [
      "100 0.6562857142857144 0.015001133744002233\n",
      "200 0.7207999999999999 0.019395302982366046\n",
      "300 0.7533333333333333 0.01777777777777779\n",
      "400 0.772 0.05593647190240807\n"
     ]
    }
   ],
   "source": [
    "results = pd.read_csv('results/DISEQuA_svm_tfidf_DUT.csv')\n",
    "for train_size in results.train_size.unique():\n",
    "    print(train_size, results[results.train_size == train_size].accuracy.mean(), results[results.train_size == train_size].accuracy.std())"
   ]
  },
  {
   "cell_type": "markdown",
   "metadata": {},
   "source": [
    "#### ITA"
   ]
  },
  {
   "cell_type": "code",
   "execution_count": 18,
   "metadata": {},
   "outputs": [
    {
     "name": "stdout",
     "output_type": "stream",
     "text": [
      "100 0.6854285714285714 0.019116541969476278\n",
      "200 0.7644 0.024833668901535894\n",
      "300 0.8086666666666666 0.022889967612121028\n",
      "400 0.8039999999999999 0.0665331997326648\n"
     ]
    }
   ],
   "source": [
    "results = pd.read_csv('results/DISEQuA_svm_tfidf_ITA.csv')\n",
    "for train_size in results.train_size.unique():\n",
    "    print(train_size, results[results.train_size == train_size].accuracy.mean(), results[results.train_size == train_size].accuracy.std())"
   ]
  },
  {
   "cell_type": "markdown",
   "metadata": {},
   "source": [
    "#### SPA"
   ]
  },
  {
   "cell_type": "code",
   "execution_count": 20,
   "metadata": {
    "scrolled": true
   },
   "outputs": [
    {
     "name": "stdout",
     "output_type": "stream",
     "text": [
      "100 0.6665714285714286 0.023982230761341834\n",
      "200 0.7287999999999999 0.016088643337598227\n",
      "300 0.7446666666666667 0.035423365379574176\n",
      "400 0.776 0.06168017869984201\n"
     ]
    }
   ],
   "source": [
    "results = pd.read_csv('results/DISEQuA_svm_tfidf_SPA.csv')\n",
    "for train_size in results.train_size.unique():\n",
    "    print(train_size, results[results.train_size == train_size].accuracy.mean(), results[results.train_size == train_size].accuracy.std())"
   ]
  },
  {
   "cell_type": "markdown",
   "metadata": {},
   "source": [
    "### RFC + TFIDF"
   ]
  },
  {
   "cell_type": "markdown",
   "metadata": {},
   "source": [
    "#### ENG"
   ]
  },
  {
   "cell_type": "code",
   "execution_count": 32,
   "metadata": {},
   "outputs": [
    {
     "name": "stdout",
     "output_type": "stream",
     "text": [
      "100 0.6211428571428572 0.03612023258250227\n",
      "200 0.6776 0.031280807037045714\n",
      "300 0.7286666666666666 0.054073566715022135\n",
      "400 0.716 0.075306779981029\n"
     ]
    }
   ],
   "source": [
    "results = pd.read_csv('results/DISEQuA_rfc_tfidf_ENG.csv')\n",
    "for train_size in results.train_size.unique():\n",
    "    print(train_size, results[results.train_size == train_size].accuracy.mean(), results[results.train_size == train_size].accuracy.std())"
   ]
  },
  {
   "cell_type": "markdown",
   "metadata": {},
   "source": [
    "#### DUT"
   ]
  },
  {
   "cell_type": "code",
   "execution_count": 33,
   "metadata": {},
   "outputs": [
    {
     "name": "stdout",
     "output_type": "stream",
     "text": [
      "100 0.5957142857142856 0.022627817848603286\n",
      "200 0.6487999999999999 0.042070839729622174\n",
      "300 0.6819999999999999 0.015412036341688608\n",
      "400 0.692 0.06338594306135847\n"
     ]
    }
   ],
   "source": [
    "results = pd.read_csv('results/DISEQuA_rfc_tfidf_DUT.csv')\n",
    "for train_size in results.train_size.unique():\n",
    "    print(train_size, results[results.train_size == train_size].accuracy.mean(), results[results.train_size == train_size].accuracy.std())"
   ]
  },
  {
   "cell_type": "markdown",
   "metadata": {},
   "source": [
    "#### ITA"
   ]
  },
  {
   "cell_type": "code",
   "execution_count": 34,
   "metadata": {},
   "outputs": [
    {
     "name": "stdout",
     "output_type": "stream",
     "text": [
      "100 0.5962857142857143 0.035889727811147805\n",
      "200 0.6803999999999999 0.03180216624347748\n",
      "300 0.7006666666666668 0.02423139479739373\n",
      "400 0.726 0.05253570214625479\n"
     ]
    }
   ],
   "source": [
    "results = pd.read_csv('results/DISEQuA_rfc_tfidf_ITA.csv')\n",
    "for train_size in results.train_size.unique():\n",
    "    print(train_size, results[results.train_size == train_size].accuracy.mean(), results[results.train_size == train_size].accuracy.std())"
   ]
  },
  {
   "cell_type": "markdown",
   "metadata": {},
   "source": [
    "#### SPA"
   ]
  },
  {
   "cell_type": "code",
   "execution_count": 35,
   "metadata": {
    "scrolled": true
   },
   "outputs": [
    {
     "name": "stdout",
     "output_type": "stream",
     "text": [
      "100 0.5602857142857143 0.02976704717478154\n",
      "200 0.6352 0.014459137825841017\n",
      "300 0.6806666666666666 0.030380305511349976\n",
      "400 0.69 0.041365578819969516\n"
     ]
    }
   ],
   "source": [
    "results = pd.read_csv('results/DISEQuA_rfc_tfidf_SPA.csv')\n",
    "for train_size in results.train_size.unique():\n",
    "    print(train_size, results[results.train_size == train_size].accuracy.mean(), results[results.train_size == train_size].accuracy.std())"
   ]
  },
  {
   "cell_type": "markdown",
   "metadata": {},
   "source": [
    "### LSTM + Embedding"
   ]
  },
  {
   "cell_type": "markdown",
   "metadata": {},
   "source": [
    "#### ENG"
   ]
  },
  {
   "cell_type": "code",
   "execution_count": 21,
   "metadata": {},
   "outputs": [
    {
     "name": "stdout",
     "output_type": "stream",
     "text": [
      "100 0.6217142857142857 0.053844489271821575\n",
      "200 0.7323999999999999 0.03997554808185176\n",
      "300 0.7886666666666667 0.037324072925567574\n",
      "400 0.806 0.0632806798671162\n"
     ]
    }
   ],
   "source": [
    "results = pd.read_csv('results/DISEQuA_lstm_embedding_ENG.csv')\n",
    "for train_size in results.train_size.unique():\n",
    "    print(train_size, results[results.train_size == train_size].accuracy.mean(), results[results.train_size == train_size].accuracy.std())"
   ]
  },
  {
   "cell_type": "markdown",
   "metadata": {},
   "source": [
    "#### DUT"
   ]
  },
  {
   "cell_type": "code",
   "execution_count": 22,
   "metadata": {},
   "outputs": [
    {
     "name": "stdout",
     "output_type": "stream",
     "text": [
      "100 0.6271428571428571 0.051432980410655776\n",
      "200 0.746 0.025733678754158357\n",
      "300 0.748 0.12581781851864274\n",
      "400 0.7999999999999999 0.08110350040397626\n"
     ]
    }
   ],
   "source": [
    "results = pd.read_csv('results/DISEQuA_lstm_embedding_DUT.csv')\n",
    "for train_size in results.train_size.unique():\n",
    "    print(train_size, results[results.train_size == train_size].accuracy.mean(), results[results.train_size == train_size].accuracy.std())"
   ]
  },
  {
   "cell_type": "markdown",
   "metadata": {},
   "source": [
    "#### ITA"
   ]
  },
  {
   "cell_type": "code",
   "execution_count": 23,
   "metadata": {},
   "outputs": [
    {
     "name": "stdout",
     "output_type": "stream",
     "text": [
      "100 0.6485714285714286 0.047024864364299084\n",
      "200 0.7476 0.029959973297718392\n",
      "300 0.7466666666666666 0.10671295292038196\n",
      "400 0.842 0.05028805910838964\n"
     ]
    }
   ],
   "source": [
    "results = pd.read_csv('results/DISEQuA_lstm_embedding_ITA.csv')\n",
    "for train_size in results.train_size.unique():\n",
    "    print(train_size, results[results.train_size == train_size].accuracy.mean(), results[results.train_size == train_size].accuracy.std())"
   ]
  },
  {
   "cell_type": "markdown",
   "metadata": {},
   "source": [
    "#### SPA"
   ]
  },
  {
   "cell_type": "code",
   "execution_count": 24,
   "metadata": {},
   "outputs": [
    {
     "name": "stdout",
     "output_type": "stream",
     "text": [
      "100 0.639142857142857 0.054495001747128145\n",
      "200 0.7568 0.0464872742443205\n",
      "300 0.7993333333333332 0.031497599359825816\n",
      "400 0.8140000000000001 0.04115013163202923\n"
     ]
    }
   ],
   "source": [
    "results = pd.read_csv('results/DISEQuA_lstm_embedding_SPA.csv')\n",
    "for train_size in results.train_size.unique():\n",
    "    print(train_size, results[results.train_size == train_size].accuracy.mean(), results[results.train_size == train_size].accuracy.std())"
   ]
  },
  {
   "cell_type": "code",
   "execution_count": null,
   "metadata": {},
   "outputs": [],
   "source": []
  }
 ],
 "metadata": {
  "kernelspec": {
   "display_name": "qa",
   "language": "python",
   "name": "qa"
  },
  "language_info": {
   "codemirror_mode": {
    "name": "ipython",
    "version": 3
   },
   "file_extension": ".py",
   "mimetype": "text/x-python",
   "name": "python",
   "nbconvert_exporter": "python",
   "pygments_lexer": "ipython3",
   "version": "3.6.7"
  }
 },
 "nbformat": 4,
 "nbformat_minor": 2
}
