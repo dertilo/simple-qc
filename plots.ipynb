{
 "cells": [
  {
   "cell_type": "code",
   "execution_count": 2,
   "metadata": {},
   "outputs": [],
   "source": [
    "import pandas as pd\n",
    "import matplotlib.pyplot as plt"
   ]
  },
  {
   "cell_type": "markdown",
   "metadata": {},
   "source": [
    "## UIUC - Normal"
   ]
  },
  {
   "cell_type": "markdown",
   "metadata": {},
   "source": [
    "### SVM + <font color=#007700>TF-IDF</font> "
   ]
  },
  {
   "cell_type": "markdown",
   "metadata": {},
   "source": [
    "#### EN"
   ]
  },
  {
   "cell_type": "code",
   "execution_count": 206,
   "metadata": {},
   "outputs": [
    {
     "name": "stdout",
     "output_type": "stream",
     "text": [
      "1000 0.7859999999999999 nan\n",
      "2000 0.828 nan\n",
      "3000 0.8420000000000001 nan\n",
      "4000 0.868 nan\n",
      "5500 0.872 nan\n"
     ]
    }
   ],
   "source": [
    "results = pd.read_csv('results/UIUC_svm_tfidf_en.csv')\n",
    "for train_size in results.train_size.unique():\n",
    "    print(train_size, results[results.train_size == train_size].accuracy.mean(), results[results.train_size == train_size].accuracy.std())"
   ]
  },
  {
   "cell_type": "markdown",
   "metadata": {},
   "source": [
    "#### ES"
   ]
  },
  {
   "cell_type": "code",
   "execution_count": 213,
   "metadata": {},
   "outputs": [
    {
     "name": "stdout",
     "output_type": "stream",
     "text": [
      "1000 0.7583395107487028 nan\n",
      "2000 0.765752409191994 nan\n",
      "3000 0.782060785767235 nan\n",
      "4000 0.7828020756115641 nan\n",
      "5500 0.7894736842105263 nan\n"
     ]
    }
   ],
   "source": [
    "results = pd.read_csv('results/UIUC_svm_tfidf_es.csv')\n",
    "for train_size in results.train_size.unique():\n",
    "    print(train_size, results[results.train_size == train_size].accuracy.mean(), results[results.train_size == train_size].accuracy.std())"
   ]
  },
  {
   "cell_type": "markdown",
   "metadata": {},
   "source": [
    "#### PT"
   ]
  },
  {
   "cell_type": "code",
   "execution_count": 207,
   "metadata": {
    "scrolled": true
   },
   "outputs": [
    {
     "name": "stdout",
     "output_type": "stream",
     "text": [
      "1000 0.7879999999999999 nan\n",
      "2000 0.8320000000000001 nan\n",
      "3000 0.81 nan\n",
      "4000 0.8420000000000001 nan\n",
      "5500 0.8540000000000001 nan\n"
     ]
    }
   ],
   "source": [
    "\n",
    "results = pd.read_csv('results/UIUC_svm_tfidf_pt.csv')\n",
    "for train_size in results.train_size.unique():\n",
    "    print(train_size, results[results.train_size == train_size].accuracy.mean(), results[results.train_size == train_size].accuracy.std())"
   ]
  },
  {
   "cell_type": "markdown",
   "metadata": {},
   "source": [
    "### SVM + <font color=#007700>TF-IDF</font> + <font color=#0055CC>WB</font>"
   ]
  },
  {
   "cell_type": "markdown",
   "metadata": {},
   "source": [
    "#### EN"
   ]
  },
  {
   "cell_type": "code",
   "execution_count": 86,
   "metadata": {},
   "outputs": [
    {
     "name": "stdout",
     "output_type": "stream",
     "text": [
      "1000 0.8320000000000001 nan\n",
      "2000 0.88 nan\n",
      "3000 0.88 nan\n",
      "4000 0.904 nan\n",
      "5500 0.914 nan\n"
     ]
    }
   ],
   "source": [
    "results = pd.read_csv('results/UIUC_svm_cortes_en.csv')\n",
    "for train_size in results.train_size.unique():\n",
    "    print(train_size, results[results.train_size == train_size].accuracy.mean(), results[results.train_size == train_size].accuracy.std())"
   ]
  },
  {
   "cell_type": "markdown",
   "metadata": {},
   "source": [
    "#### ES"
   ]
  },
  {
   "cell_type": "code",
   "execution_count": 214,
   "metadata": {},
   "outputs": [
    {
     "name": "stdout",
     "output_type": "stream",
     "text": [
      "1000 0.7323943661971831 nan\n",
      "2000 0.765011119347665 nan\n",
      "3000 0.7828020756115641 nan\n",
      "4000 0.7768717568569311 nan\n",
      "5500 0.7828020756115641 nan\n"
     ]
    }
   ],
   "source": [
    "results = pd.read_csv('results/UIUC_svm_cortes_es.csv')\n",
    "for train_size in results.train_size.unique():\n",
    "    print(train_size, results[results.train_size == train_size].accuracy.mean(), results[results.train_size == train_size].accuracy.std())"
   ]
  },
  {
   "cell_type": "markdown",
   "metadata": {},
   "source": [
    "#### PT"
   ]
  },
  {
   "cell_type": "code",
   "execution_count": 208,
   "metadata": {
    "scrolled": false
   },
   "outputs": [
    {
     "name": "stdout",
     "output_type": "stream",
     "text": [
      "1000 0.784 nan\n",
      "2000 0.8220000000000001 nan\n",
      "3000 0.84 nan\n",
      "4000 0.856 nan\n",
      "5500 0.8540000000000001 nan\n"
     ]
    }
   ],
   "source": [
    "results = pd.read_csv('results/UIUC_svm_cortes_pt.csv')\n",
    "for train_size in results.train_size.unique():\n",
    "    print(train_size, results[results.train_size == train_size].accuracy.mean(), results[results.train_size == train_size].accuracy.std())"
   ]
  },
  {
   "cell_type": "markdown",
   "metadata": {},
   "source": [
    "### SVM + <font color=#007700>TF-IDF</font> + <font color=#0055CC>WB</font> + <font color=#CC6600>POS</font> + <font color=#CC6600>NER</font>"
   ]
  },
  {
   "cell_type": "markdown",
   "metadata": {},
   "source": [
    "#### EN"
   ]
  },
  {
   "cell_type": "code",
   "execution_count": 116,
   "metadata": {},
   "outputs": [
    {
     "name": "stdout",
     "output_type": "stream",
     "text": [
      "1000 0.852 nan\n",
      "2000 0.892 nan\n",
      "3000 0.904 nan\n",
      "4000 0.91 nan\n",
      "5500 0.9259999999999999 nan\n"
     ]
    }
   ],
   "source": [
    "results = pd.read_csv('results/UIUC_svm_high_en.csv')\n",
    "for train_size in results.train_size.unique():\n",
    "    print(train_size, results[results.train_size == train_size].accuracy.mean(), results[results.train_size == train_size].accuracy.std())"
   ]
  },
  {
   "cell_type": "markdown",
   "metadata": {},
   "source": [
    "#### ES"
   ]
  },
  {
   "cell_type": "code",
   "execution_count": 216,
   "metadata": {},
   "outputs": [
    {
     "name": "stdout",
     "output_type": "stream",
     "text": [
      "1000 0.7049666419570052 nan\n",
      "2000 0.7472201630837657 nan\n",
      "3000 0.7724240177909563 nan\n",
      "4000 0.7702001482579689 nan\n",
      "5500 0.7783543365455893 nan\n"
     ]
    }
   ],
   "source": [
    "results = pd.read_csv('results/UIUC_svm_high_es.csv')\n",
    "for train_size in results.train_size.unique():\n",
    "    print(train_size, results[results.train_size == train_size].accuracy.mean(), results[results.train_size == train_size].accuracy.std())"
   ]
  },
  {
   "cell_type": "markdown",
   "metadata": {},
   "source": [
    "#### PT"
   ]
  },
  {
   "cell_type": "code",
   "execution_count": 209,
   "metadata": {
    "scrolled": false
   },
   "outputs": [
    {
     "name": "stdout",
     "output_type": "stream",
     "text": [
      "1000 0.838 nan\n",
      "2000 0.846 nan\n",
      "3000 0.872 nan\n",
      "4000 0.872 nan\n",
      "5500 0.878 nan\n"
     ]
    }
   ],
   "source": [
    "results = pd.read_csv('results/UIUC_svm_high_pt.csv')\n",
    "for train_size in results.train_size.unique():\n",
    "    print(train_size, results[results.train_size == train_size].accuracy.mean(), results[results.train_size == train_size].accuracy.std())"
   ]
  },
  {
   "cell_type": "markdown",
   "metadata": {},
   "source": [
    "### LSTM + <font color=#0055CC>BERT</font>"
   ]
  },
  {
   "cell_type": "markdown",
   "metadata": {},
   "source": [
    "#### EN"
   ]
  },
  {
   "cell_type": "code",
   "execution_count": 5,
   "metadata": {},
   "outputs": [
    {
     "name": "stdout",
     "output_type": "stream",
     "text": [
      "500 0.72 nan\n"
     ]
    }
   ],
   "source": [
    "results = pd.read_csv('results/UIUC_lstm_bert_en.csv')\n",
    "for train_size in results.train_size.unique():\n",
    "    print(train_size, results[results.train_size == train_size].accuracy.mean(), results[results.train_size == train_size].accuracy.std())"
   ]
  },
  {
   "cell_type": "markdown",
   "metadata": {},
   "source": [
    "## UIUC - Cross-validation"
   ]
  },
  {
   "cell_type": "markdown",
   "metadata": {},
   "source": [
    "### SVM + <font color=#007700>TF-IDF</font>"
   ]
  },
  {
   "cell_type": "markdown",
   "metadata": {},
   "source": [
    "#### EN"
   ]
  },
  {
   "cell_type": "code",
   "execution_count": 236,
   "metadata": {},
   "outputs": [
    {
     "name": "stdout",
     "output_type": "stream",
     "text": [
      "50 0.4927990511690952 0.022897122588511662\n",
      "100 0.5751367053998633 0.01711284958122657\n",
      "200 0.6421244784422809 0.010072535912123906\n",
      "300 0.6810686482661005 0.012784695982849488\n",
      "400 0.7013508645533142 0.009680327929124108\n",
      "500 0.7170396184886281 0.007864017501676994\n",
      "600 0.7323243647234678 0.00482128759281784\n",
      "700 0.7387471439451636 0.007810651001095192\n",
      "800 0.7502717391304348 0.005402490825489286\n",
      "900 0.7572446555819479 0.007958896731333938\n",
      "1000 0.7631462035541196 0.006347036152550407\n",
      "2000 0.7969635627530365 0.005963171685637155\n",
      "3000 0.8146341463414635 0.005622807377298781\n",
      "4000 0.826280737704918 0.003919792081447498\n",
      "5500 0.8365044247787612 0.01590084058532052\n"
     ]
    }
   ],
   "source": [
    "results = pd.read_csv('results/UIUC_cv_svm_tfidf_en.csv')\n",
    "for train_size in results.train_size.unique():\n",
    "    print(train_size, results[results.train_size == train_size].accuracy.mean(), results[results.train_size == train_size].accuracy.std())"
   ]
  },
  {
   "cell_type": "markdown",
   "metadata": {},
   "source": [
    "#### ES"
   ]
  },
  {
   "cell_type": "code",
   "execution_count": 237,
   "metadata": {},
   "outputs": [
    {
     "name": "stdout",
     "output_type": "stream",
     "text": [
      "50 0.5068986113185009 0.023006470465864827\n",
      "100 0.5662253648262374 0.018030543914271113\n",
      "200 0.6349014815946236 0.012051666444579535\n",
      "300 0.6615790290057392 0.009459024189899608\n",
      "400 0.6867654009768395 0.00881194577083161\n",
      "500 0.7030734752681287 0.007016427448906878\n",
      "600 0.7132910362778591 0.007858312867330472\n",
      "700 0.7201752935339838 0.005529134987325142\n",
      "800 0.726181267866151 0.006304242867264218\n",
      "900 0.7311099709252608 0.006299875060056344\n",
      "1000 0.7382112406472943 0.0053582946246207965\n",
      "2000 0.7677269854645038 0.004955547300162106\n",
      "3000 0.7845476381104883 0.0055698516111206695\n",
      "4000 0.795413178012377 0.007412947141997914\n",
      "5500 0.8023255813953488 0.008463587382511387\n"
     ]
    }
   ],
   "source": [
    "results = pd.read_csv('results/UIUC_cv_svm_tfidf_es.csv')\n",
    "for train_size in results.train_size.unique():\n",
    "    print(train_size, results[results.train_size == train_size].accuracy.mean(), results[results.train_size == train_size].accuracy.std())"
   ]
  },
  {
   "cell_type": "markdown",
   "metadata": {},
   "source": [
    "#### PT"
   ]
  },
  {
   "cell_type": "code",
   "execution_count": 238,
   "metadata": {
    "scrolled": true
   },
   "outputs": [
    {
     "name": "stdout",
     "output_type": "stream",
     "text": [
      "50 0.462925342813611 0.014098129009915306\n",
      "100 0.5512719822434693 0.016664186483104512\n",
      "200 0.6225117248566961 0.01031175710806287\n",
      "300 0.6567085027399682 0.007086091324212731\n",
      "400 0.6820586647471658 0.007517843230383986\n",
      "500 0.6968297599413598 0.009085744970669144\n",
      "600 0.7079895463879036 0.0063248670261034125\n",
      "700 0.7178999429332319 0.00721063672605647\n",
      "800 0.726759744037231 0.006127545834173615\n",
      "900 0.7305912596401029 0.00658506043984461\n",
      "1000 0.7386524107322978 0.0031687298509403463\n",
      "2000 0.7737174627242862 0.007768452854521004\n",
      "3000 0.7899560365235037 0.006949773369570169\n",
      "4000 0.807715891670925 0.010030757365991292\n",
      "5500 0.8181619256017505 0.02764877011578816\n"
     ]
    }
   ],
   "source": [
    "\n",
    "results = pd.read_csv('results/UIUC_cv_svm_tfidf_pt.csv')\n",
    "for train_size in results.train_size.unique():\n",
    "    print(train_size, results[results.train_size == train_size].accuracy.mean(), results[results.train_size == train_size].accuracy.std())"
   ]
  },
  {
   "cell_type": "markdown",
   "metadata": {},
   "source": [
    "### SVM + <font color=#007700>TF-IDF</font> + <font color=#0055CC>WB</font>"
   ]
  },
  {
   "cell_type": "markdown",
   "metadata": {},
   "source": [
    "#### EN"
   ]
  },
  {
   "cell_type": "code",
   "execution_count": 241,
   "metadata": {},
   "outputs": [
    {
     "name": "stdout",
     "output_type": "stream",
     "text": [
      "50 0.4457641477465266 0.047877012699971945\n",
      "100 0.5478468899521532 0.020713455895711767\n",
      "200 0.6404381084840056 0.011386067952541311\n",
      "300 0.677618542108988 0.0120653345881042\n",
      "400 0.7017651296829972 0.013495110093656584\n",
      "500 0.717351430667645 0.010724736885103347\n",
      "600 0.7381726457399103 0.005780529143333344\n",
      "700 0.7428408225437929 0.005585318145336707\n",
      "800 0.7545031055900621 0.007214418584842407\n",
      "900 0.7615399841646873 0.006730040260946201\n",
      "1000 0.7652261712439419 0.00889406561522442\n",
      "2000 0.8066295546558704 0.006710423692551594\n",
      "3000 0.8240176151761519 0.007583588087662128\n",
      "4000 0.8348360655737705 0.00853551868838466\n",
      "5500 0.8420353982300884 0.018427726488655437\n"
     ]
    }
   ],
   "source": [
    "results = pd.read_csv('results/UIUC_cv_svm_cortes_en.csv')\n",
    "for train_size in results.train_size.unique():\n",
    "    print(train_size, results[results.train_size == train_size].accuracy.mean(), results[results.train_size == train_size].accuracy.std())"
   ]
  },
  {
   "cell_type": "markdown",
   "metadata": {},
   "source": [
    "#### ES"
   ]
  },
  {
   "cell_type": "code",
   "execution_count": 218,
   "metadata": {},
   "outputs": [
    {
     "name": "stdout",
     "output_type": "stream",
     "text": [
      "1000 0.7289020358447886 0.005745933229420808\n",
      "2000 0.7644406993890879 0.004519012988200451\n",
      "3000 0.7869495596477182 0.005830855019660508\n",
      "4000 0.8004004368401892 0.005210894971176382\n",
      "5500 0.8076182838813152 0.006639260008279949\n"
     ]
    }
   ],
   "source": [
    "results = pd.read_csv('results/UIUC_cv_svm_cortes_es.csv')\n",
    "for train_size in results.train_size.unique():\n",
    "    print(train_size, results[results.train_size == train_size].accuracy.mean(), results[results.train_size == train_size].accuracy.std())"
   ]
  },
  {
   "cell_type": "markdown",
   "metadata": {},
   "source": [
    "#### PT"
   ]
  },
  {
   "cell_type": "code",
   "execution_count": 211,
   "metadata": {
    "scrolled": false
   },
   "outputs": [
    {
     "name": "stdout",
     "output_type": "stream",
     "text": [
      "1000 0.7446842848497075 0.003557252739019385\n",
      "2000 0.7814000505433409 0.006349847711243457\n",
      "3000 0.8005410889414947 0.005921755729159524\n",
      "4000 0.8188042922841083 0.007207139930700956\n",
      "5500 0.8262582056892779 0.019577146794305826\n"
     ]
    }
   ],
   "source": [
    "results = pd.read_csv('results/UIUC_cv_svm_cortes_pt.csv')\n",
    "for train_size in results.train_size.unique():\n",
    "    print(train_size, results[results.train_size == train_size].accuracy.mean(), results[results.train_size == train_size].accuracy.std())"
   ]
  },
  {
   "cell_type": "markdown",
   "metadata": {},
   "source": [
    "### SVM + <font color=#007700>TF-IDF</font> + <font color=#0055CC>WB</font> + <font color=#CC6600>POS</font> + <font color=#CC6600>NER</font>"
   ]
  },
  {
   "cell_type": "markdown",
   "metadata": {},
   "source": [
    "#### EN"
   ]
  },
  {
   "cell_type": "code",
   "execution_count": 245,
   "metadata": {},
   "outputs": [
    {
     "name": "stdout",
     "output_type": "stream",
     "text": [
      "50 0.4320738732633006 0.03486551692512431\n",
      "100 0.5225393028024607 0.01921006965963226\n",
      "200 0.6121870653685675 0.011734168651217838\n",
      "300 0.6506546355272469 0.0110712746064762\n",
      "400 0.6867615273775216 0.015993102662671215\n",
      "500 0.7046955245781364 0.009705617428703555\n",
      "600 0.7252615844544097 0.009988916534798456\n",
      "700 0.7358149276466108 0.008922261944344733\n",
      "800 0.7472631987577639 0.007281213630817103\n",
      "900 0.7579374505146477 0.00527963334304847\n",
      "1000 0.7589458804523425 0.005970807157452148\n",
      "2000 0.8072874493927126 0.007782853111522986\n",
      "3000 0.8240176151761517 0.005439427323626705\n",
      "4000 0.838063524590164 0.0073744002656670775\n",
      "5500 0.8595132743362832 0.014460672235344835\n"
     ]
    }
   ],
   "source": [
    "results = pd.read_csv('results/UIUC_cv_svm_high_en.csv')\n",
    "for train_size in results.train_size.unique():\n",
    "    print(train_size, results[results.train_size == train_size].accuracy.mean(), results[results.train_size == train_size].accuracy.std())"
   ]
  },
  {
   "cell_type": "markdown",
   "metadata": {},
   "source": [
    "#### ES"
   ]
  },
  {
   "cell_type": "code",
   "execution_count": 219,
   "metadata": {},
   "outputs": [
    {
     "name": "stdout",
     "output_type": "stream",
     "text": [
      "1000 0.7315468940316687 0.004884382469146498\n",
      "2000 0.7638297872340426 0.004437146116487028\n",
      "3000 0.785321590605818 0.00755186529020966\n",
      "4000 0.8000364033491081 0.004297205963759304\n",
      "5500 0.8088211708099438 0.007496077090117567\n"
     ]
    }
   ],
   "source": [
    "results = pd.read_csv('results/UIUC_cv_svm_high_es.csv')\n",
    "for train_size in results.train_size.unique():\n",
    "    print(train_size, results[results.train_size == train_size].accuracy.mean(), results[results.train_size == train_size].accuracy.std())"
   ]
  },
  {
   "cell_type": "markdown",
   "metadata": {},
   "source": [
    "#### PT"
   ]
  },
  {
   "cell_type": "code",
   "execution_count": 212,
   "metadata": {
    "scrolled": false
   },
   "outputs": [
    {
     "name": "stdout",
     "output_type": "stream",
     "text": [
      "1000 0.7707887835384305 0.006744506576442151\n",
      "2000 0.8029567854435179 0.006696913200082217\n",
      "3000 0.8211024687182956 0.00517071127998181\n",
      "4000 0.834031681144609 0.0048643691799567625\n",
      "5500 0.8509846827133479 0.018976879602803007\n"
     ]
    }
   ],
   "source": [
    "results = pd.read_csv('results/UIUC_cv_svm_high_pt.csv')\n",
    "for train_size in results.train_size.unique():\n",
    "    print(train_size, results[results.train_size == train_size].accuracy.mean(), results[results.train_size == train_size].accuracy.std())"
   ]
  },
  {
   "cell_type": "markdown",
   "metadata": {},
   "source": [
    "### LSTM + Embedding"
   ]
  },
  {
   "cell_type": "markdown",
   "metadata": {},
   "source": [
    "#### EN"
   ]
  },
  {
   "cell_type": "code",
   "execution_count": 6,
   "metadata": {
    "scrolled": true
   },
   "outputs": [
    {
     "name": "stdout",
     "output_type": "stream",
     "text": [
      "1000 0.8686 0.01376802893262702\n",
      "2000 0.8986666666666666 0.012641838946689011\n",
      "3000 0.8910000000000001 0.14403806968035004\n",
      "4000 0.9194 0.010905866817199029\n",
      "5500 0.9206666666666669 0.01099634212953949\n"
     ]
    }
   ],
   "source": [
    "results = pd.read_csv('results/UIUC_lstm_embedding_en.csv')\n",
    "for train_size in results.train_size.unique():\n",
    "    print(train_size, results[results.train_size == train_size].accuracy.mean(), results[results.train_size == train_size].accuracy.std())"
   ]
  },
  {
   "cell_type": "markdown",
   "metadata": {},
   "source": [
    "#### ES"
   ]
  },
  {
   "cell_type": "code",
   "execution_count": 39,
   "metadata": {},
   "outputs": [
    {
     "name": "stdout",
     "output_type": "stream",
     "text": [
      "1000 0.7578221236757823 0.009981051628957856\n",
      "2000 0.7648928307464893 0.007260748241805785\n",
      "3000 0.7783936930278393 0.00798179752769204\n",
      "4000 0.7845774821384578 0.006457132490280304\n",
      "5500 0.7896279871889628 0.00583738700018472\n"
     ]
    }
   ],
   "source": [
    "results = pd.read_csv('results/UIUC_lstm_embedding_es_2.csv')\n",
    "for train_size in results.train_size.unique():\n",
    "    print(train_size, results[results.train_size == train_size].accuracy.mean(), results[results.train_size == train_size].accuracy.std())"
   ]
  },
  {
   "cell_type": "markdown",
   "metadata": {},
   "source": [
    "#### PT"
   ]
  },
  {
   "cell_type": "code",
   "execution_count": 33,
   "metadata": {
    "scrolled": false
   },
   "outputs": [
    {
     "name": "stdout",
     "output_type": "stream",
     "text": [
      "1000 0.8612000000000001 0.029857593038772653\n",
      "2000 0.893 0.013243085378597667\n",
      "3000 0.8916000000000001 0.012675254197274182\n",
      "4000 0.8998666666666667 0.01155417026768746\n",
      "5500 0.9001333333333333 0.009246558850443376\n"
     ]
    }
   ],
   "source": [
    "results = pd.read_csv('results/UIUC_lstm_embedding_pt.csv')\n",
    "for train_size in results.train_size.unique():\n",
    "    print(train_size, results[results.train_size == train_size].accuracy.mean(), results[results.train_size == train_size].accuracy.std())"
   ]
  },
  {
   "cell_type": "markdown",
   "metadata": {},
   "source": [
    "### CNN + Embedding"
   ]
  },
  {
   "cell_type": "markdown",
   "metadata": {},
   "source": [
    "#### EN"
   ]
  },
  {
   "cell_type": "code",
   "execution_count": 6,
   "metadata": {
    "scrolled": true
   },
   "outputs": [
    {
     "name": "stdout",
     "output_type": "stream",
     "text": [
      "1000 0.8203333333333334 0.005967344082780777\n",
      "2000 0.8671333333333334 0.0037391990045198406\n",
      "3000 0.882 0.0044875306165510186\n",
      "4000 0.9003999999999999 0.0044998084250409\n",
      "5500 0.8965333333333334 0.0038928168449730337\n"
     ]
    }
   ],
   "source": [
    "results = pd.read_csv('results/UIUC_cnn_en.csv')\n",
    "for train_size in results.train_size.unique():\n",
    "    print(train_size, results[results.train_size == train_size].accuracy.mean(), results[results.train_size == train_size].accuracy.std())"
   ]
  },
  {
   "cell_type": "markdown",
   "metadata": {},
   "source": [
    "#### ES"
   ]
  },
  {
   "cell_type": "code",
   "execution_count": 29,
   "metadata": {},
   "outputs": [
    {
     "name": "stdout",
     "output_type": "stream",
     "text": [
      "1000 0.7588075880758808 0.0059233961101835325\n",
      "2000 0.7788125153978812 0.0034335558452118953\n",
      "3000 0.7928307464892831 0.0032196077258049827\n",
      "4000 0.7920916481892092 0.0027596567999181557\n",
      "5500 0.7987540914370183 0.0018946635460802676\n"
     ]
    }
   ],
   "source": [
    "results = pd.read_csv('results/UIUC_cnn_es.csv')\n",
    "for train_size in results.train_size.unique():\n",
    "    print(train_size, results[results.train_size == train_size].accuracy.mean(), results[results.train_size == train_size].accuracy.std())"
   ]
  },
  {
   "cell_type": "markdown",
   "metadata": {},
   "source": [
    "#### PT"
   ]
  },
  {
   "cell_type": "code",
   "execution_count": 14,
   "metadata": {
    "scrolled": false
   },
   "outputs": [
    {
     "name": "stdout",
     "output_type": "stream",
     "text": [
      "1000 0.8192 0.005956161689289968\n",
      "2000 0.8550666666666668 0.005698961389546369\n",
      "3000 0.8593333333333334 0.0063099993624423645\n",
      "4000 0.8812727272727272 0.0045584230583855\n",
      "5500 0.8810370370370371 0.004237937465337821\n"
     ]
    }
   ],
   "source": [
    "#results = pd.read_csv('results/UIUC_cnn_pt.csv')\n",
    "results = pd.read_csv('/home/eduardo/Desktop/UIUC_cnn_pt.csv')\n",
    "for train_size in results.train_size.unique():\n",
    "    print(train_size, results[results.train_size == train_size].accuracy.mean(), results[results.train_size == train_size].accuracy.std())"
   ]
  },
  {
   "cell_type": "markdown",
   "metadata": {},
   "source": [
    "## DISEQuA"
   ]
  },
  {
   "cell_type": "markdown",
   "metadata": {},
   "source": [
    "### SVM + <font color=#007700>TF-IDF</font>"
   ]
  },
  {
   "cell_type": "markdown",
   "metadata": {},
   "source": [
    "#### ENG"
   ]
  },
  {
   "cell_type": "code",
   "execution_count": 225,
   "metadata": {
    "scrolled": false
   },
   "outputs": [
    {
     "name": "stdout",
     "output_type": "stream",
     "text": [
      "100 0.7088571428571429 0.015559118477614745\n",
      "200 0.7652000000000001 0.025441872747281997\n",
      "300 0.796 0.0175541490294502\n",
      "400 0.8100000000000002 0.05517648452415616\n"
     ]
    }
   ],
   "source": [
    "results = pd.read_csv('results/DISEQuA_svm_tfidf_en.csv')\n",
    "for train_size in results.train_size.unique():\n",
    "    print(train_size, results[results.train_size == train_size].accuracy.mean(), results[results.train_size == train_size].accuracy.std())"
   ]
  },
  {
   "cell_type": "markdown",
   "metadata": {},
   "source": [
    "#### DUT"
   ]
  },
  {
   "cell_type": "code",
   "execution_count": 220,
   "metadata": {
    "scrolled": true
   },
   "outputs": [
    {
     "name": "stdout",
     "output_type": "stream",
     "text": [
      "100 0.6728571428571429 0.027709212430430775\n",
      "200 0.73 0.027406406388125956\n",
      "300 0.752 0.024504975559271502\n",
      "400 0.732 0.058271395689099094\n"
     ]
    }
   ],
   "source": [
    "results = pd.read_csv('results/DISEQuA_svm_tfidf_nl.csv')\n",
    "for train_size in results.train_size.unique():\n",
    "    print(train_size, results[results.train_size == train_size].accuracy.mean(), results[results.train_size == train_size].accuracy.std())"
   ]
  },
  {
   "cell_type": "markdown",
   "metadata": {},
   "source": [
    "#### ITA"
   ]
  },
  {
   "cell_type": "code",
   "execution_count": 226,
   "metadata": {
    "scrolled": true
   },
   "outputs": [
    {
     "name": "stdout",
     "output_type": "stream",
     "text": [
      "100 0.6971428571428572 0.023211538298959868\n",
      "200 0.7632000000000001 0.02063869074228198\n",
      "300 0.7913333333333332 0.01833838314291355\n",
      "400 0.8019999999999999 0.041579909678700455\n"
     ]
    }
   ],
   "source": [
    "results = pd.read_csv('results/DISEQuA_svm_tfidf_it.csv')\n",
    "for train_size in results.train_size.unique():\n",
    "    print(train_size, results[results.train_size == train_size].accuracy.mean(), results[results.train_size == train_size].accuracy.std())"
   ]
  },
  {
   "cell_type": "markdown",
   "metadata": {},
   "source": [
    "#### SPA"
   ]
  },
  {
   "cell_type": "code",
   "execution_count": 235,
   "metadata": {
    "scrolled": true
   },
   "outputs": [
    {
     "name": "stdout",
     "output_type": "stream",
     "text": [
      "100 0.6857142857142857 0.017089865185644166\n",
      "200 0.7411999999999999 0.023630488780387073\n",
      "300 0.7659999999999999 0.02836272984824355\n",
      "400 0.786 0.05891613625409521\n"
     ]
    }
   ],
   "source": [
    "results = pd.read_csv('results/DISEQuA_svm_tfidf_es.csv')\n",
    "for train_size in results.train_size.unique():\n",
    "    print(train_size, results[results.train_size == train_size].accuracy.mean(), results[results.train_size == train_size].accuracy.std())"
   ]
  },
  {
   "cell_type": "markdown",
   "metadata": {},
   "source": [
    "### SVM + <font color=#007700>TF-IDF</font> + <font color=#0055CC>WB</font>"
   ]
  },
  {
   "cell_type": "markdown",
   "metadata": {},
   "source": [
    "#### ENG"
   ]
  },
  {
   "cell_type": "code",
   "execution_count": 224,
   "metadata": {
    "scrolled": false
   },
   "outputs": [
    {
     "name": "stdout",
     "output_type": "stream",
     "text": [
      "100 0.6771428571428572 0.022456811662003046\n",
      "200 0.7524 0.02328184796025532\n",
      "300 0.7933333333333333 0.025141574442188352\n",
      "400 0.806 0.04718756898449704\n"
     ]
    }
   ],
   "source": [
    "results = pd.read_csv('results/DISEQuA_svm_cortes_en.csv')\n",
    "for train_size in results.train_size.unique():\n",
    "    print(train_size, results[results.train_size == train_size].accuracy.mean(), results[results.train_size == train_size].accuracy.std())"
   ]
  },
  {
   "cell_type": "markdown",
   "metadata": {},
   "source": [
    "#### DUT"
   ]
  },
  {
   "cell_type": "code",
   "execution_count": 221,
   "metadata": {
    "scrolled": true
   },
   "outputs": [
    {
     "name": "stdout",
     "output_type": "stream",
     "text": [
      "100 0.6594285714285715 0.026863221196670086\n",
      "200 0.7332 0.03161153094819811\n",
      "300 0.778 0.03080003206668206\n",
      "400 0.76 0.061101009266077866\n"
     ]
    }
   ],
   "source": [
    "results = pd.read_csv('results/DISEQuA_svm_cortes_nl.csv')\n",
    "for train_size in results.train_size.unique():\n",
    "    print(train_size, results[results.train_size == train_size].accuracy.mean(), results[results.train_size == train_size].accuracy.std())"
   ]
  },
  {
   "cell_type": "markdown",
   "metadata": {},
   "source": [
    "#### ITA"
   ]
  },
  {
   "cell_type": "code",
   "execution_count": 227,
   "metadata": {
    "scrolled": true
   },
   "outputs": [
    {
     "name": "stdout",
     "output_type": "stream",
     "text": [
      "100 0.6574285714285715 0.019163930594417844\n",
      "200 0.7260000000000001 0.030066592756745822\n",
      "300 0.7513333333333333 0.01938562532227947\n",
      "400 0.78 0.035276684147527895\n"
     ]
    }
   ],
   "source": [
    "results = pd.read_csv('results/DISEQuA_svm_cortes_it.csv')\n",
    "for train_size in results.train_size.unique():\n",
    "    print(train_size, results[results.train_size == train_size].accuracy.mean(), results[results.train_size == train_size].accuracy.std())"
   ]
  },
  {
   "cell_type": "markdown",
   "metadata": {},
   "source": [
    "#### SPA"
   ]
  },
  {
   "cell_type": "code",
   "execution_count": 233,
   "metadata": {
    "scrolled": true
   },
   "outputs": [
    {
     "name": "stdout",
     "output_type": "stream",
     "text": [
      "100 0.6757142857142857 0.020481726826291954\n",
      "200 0.7447999999999999 0.018837315213279297\n",
      "300 0.7746666666666666 0.0429527446341318\n",
      "400 0.812 0.04341018825626587\n"
     ]
    }
   ],
   "source": [
    "results = pd.read_csv('results/DISEQuA_svm_cortes_es.csv')\n",
    "for train_size in results.train_size.unique():\n",
    "    print(train_size, results[results.train_size == train_size].accuracy.mean(), results[results.train_size == train_size].accuracy.std())"
   ]
  },
  {
   "cell_type": "markdown",
   "metadata": {},
   "source": [
    "### SVM + <font color=#007700>TF-IDF</font> + <font color=#0055CC>WB</font> + <font color=#CC6600>POS</font> + <font color=#CC6600>NER</font>"
   ]
  },
  {
   "cell_type": "markdown",
   "metadata": {},
   "source": [
    "#### ENG"
   ]
  },
  {
   "cell_type": "code",
   "execution_count": 223,
   "metadata": {
    "scrolled": false
   },
   "outputs": [
    {
     "name": "stdout",
     "output_type": "stream",
     "text": [
      "100 0.6602857142857143 0.022715833031055337\n",
      "200 0.7295999999999999 0.02620941306731865\n",
      "300 0.756 0.019423798563033032\n",
      "400 0.7540000000000001 0.05501514942874068\n"
     ]
    }
   ],
   "source": [
    "results = pd.read_csv('results/DISEQuA_svm_high_en.csv')\n",
    "for train_size in results.train_size.unique():\n",
    "    print(train_size, results[results.train_size == train_size].accuracy.mean(), results[results.train_size == train_size].accuracy.std())"
   ]
  },
  {
   "cell_type": "markdown",
   "metadata": {},
   "source": [
    "#### DUT"
   ]
  },
  {
   "cell_type": "code",
   "execution_count": 222,
   "metadata": {
    "scrolled": true
   },
   "outputs": [
    {
     "name": "stdout",
     "output_type": "stream",
     "text": [
      "100 0.6542857142857141 0.022416385325599676\n",
      "200 0.7140000000000001 0.026549743668986492\n",
      "300 0.7553333333333334 0.023528286102340323\n",
      "400 0.752 0.055936471902408094\n"
     ]
    }
   ],
   "source": [
    "results = pd.read_csv('results/DISEQuA_svm_high_nl.csv')\n",
    "for train_size in results.train_size.unique():\n",
    "    print(train_size, results[results.train_size == train_size].accuracy.mean(), results[results.train_size == train_size].accuracy.std())"
   ]
  },
  {
   "cell_type": "markdown",
   "metadata": {},
   "source": [
    "#### ITA"
   ]
  },
  {
   "cell_type": "code",
   "execution_count": 228,
   "metadata": {
    "scrolled": true
   },
   "outputs": [
    {
     "name": "stdout",
     "output_type": "stream",
     "text": [
      "100 0.6125714285714284 0.019619972238960896\n",
      "200 0.6859999999999999 0.026749870196985163\n",
      "300 0.7113333333333334 0.02811791748957624\n",
      "400 0.736 0.030983866769659363\n"
     ]
    }
   ],
   "source": [
    "results = pd.read_csv('results/DISEQuA_svm_high_it.csv')\n",
    "for train_size in results.train_size.unique():\n",
    "    print(train_size, results[results.train_size == train_size].accuracy.mean(), results[results.train_size == train_size].accuracy.std())"
   ]
  },
  {
   "cell_type": "markdown",
   "metadata": {},
   "source": [
    "#### SPA"
   ]
  },
  {
   "cell_type": "code",
   "execution_count": 229,
   "metadata": {
    "scrolled": true
   },
   "outputs": [
    {
     "name": "stdout",
     "output_type": "stream",
     "text": [
      "100 0.6474285714285715 0.0246958826794102\n",
      "200 0.6963999999999999 0.020260525385312422\n",
      "300 0.7546666666666667 0.029781094342668367\n",
      "400 0.772 0.03675746333890726\n"
     ]
    }
   ],
   "source": [
    "results = pd.read_csv('results/DISEQuA_svm_high_es.csv')\n",
    "for train_size in results.train_size.unique():\n",
    "    print(train_size, results[results.train_size == train_size].accuracy.mean(), results[results.train_size == train_size].accuracy.std())"
   ]
  },
  {
   "cell_type": "markdown",
   "metadata": {},
   "source": [
    "### LSTM + Embedding"
   ]
  },
  {
   "cell_type": "markdown",
   "metadata": {},
   "source": [
    "#### ENG"
   ]
  },
  {
   "cell_type": "code",
   "execution_count": 21,
   "metadata": {},
   "outputs": [
    {
     "name": "stdout",
     "output_type": "stream",
     "text": [
      "100 0.6217142857142857 0.053844489271821575\n",
      "200 0.7323999999999999 0.03997554808185176\n",
      "300 0.7886666666666667 0.037324072925567574\n",
      "400 0.806 0.0632806798671162\n"
     ]
    }
   ],
   "source": [
    "results = pd.read_csv('results/DISEQuA_lstm_embedding_ENG.csv')\n",
    "for train_size in results.train_size.unique():\n",
    "    print(train_size, results[results.train_size == train_size].accuracy.mean(), results[results.train_size == train_size].accuracy.std())"
   ]
  },
  {
   "cell_type": "markdown",
   "metadata": {},
   "source": [
    "#### DUT"
   ]
  },
  {
   "cell_type": "code",
   "execution_count": 22,
   "metadata": {},
   "outputs": [
    {
     "name": "stdout",
     "output_type": "stream",
     "text": [
      "100 0.6271428571428571 0.051432980410655776\n",
      "200 0.746 0.025733678754158357\n",
      "300 0.748 0.12581781851864274\n",
      "400 0.7999999999999999 0.08110350040397626\n"
     ]
    }
   ],
   "source": [
    "results = pd.read_csv('results/DISEQuA_lstm_embedding_DUT.csv')\n",
    "for train_size in results.train_size.unique():\n",
    "    print(train_size, results[results.train_size == train_size].accuracy.mean(), results[results.train_size == train_size].accuracy.std())"
   ]
  },
  {
   "cell_type": "markdown",
   "metadata": {},
   "source": [
    "#### ITA"
   ]
  },
  {
   "cell_type": "code",
   "execution_count": 23,
   "metadata": {},
   "outputs": [
    {
     "name": "stdout",
     "output_type": "stream",
     "text": [
      "100 0.6485714285714286 0.047024864364299084\n",
      "200 0.7476 0.029959973297718392\n",
      "300 0.7466666666666666 0.10671295292038196\n",
      "400 0.842 0.05028805910838964\n"
     ]
    }
   ],
   "source": [
    "results = pd.read_csv('results/DISEQuA_lstm_embedding_ITA.csv')\n",
    "for train_size in results.train_size.unique():\n",
    "    print(train_size, results[results.train_size == train_size].accuracy.mean(), results[results.train_size == train_size].accuracy.std())"
   ]
  },
  {
   "cell_type": "markdown",
   "metadata": {},
   "source": [
    "#### SPA"
   ]
  },
  {
   "cell_type": "code",
   "execution_count": 115,
   "metadata": {},
   "outputs": [
    {
     "name": "stdout",
     "output_type": "stream",
     "text": [
      "100 0.2042857142857143 0.01690308509457033\n"
     ]
    }
   ],
   "source": [
    "results = pd.read_csv('results/DISEQuA_lstm_embedding_SPA.csv')\n",
    "for train_size in results.train_size.unique():\n",
    "    print(train_size, results[results.train_size == train_size].accuracy.mean(), results[results.train_size == train_size].accuracy.std())"
   ]
  },
  {
   "cell_type": "code",
   "execution_count": null,
   "metadata": {},
   "outputs": [],
   "source": []
  },
  {
   "cell_type": "markdown",
   "metadata": {},
   "source": [
    "### CNN + Embedding"
   ]
  },
  {
   "cell_type": "markdown",
   "metadata": {},
   "source": [
    "#### ENG"
   ]
  },
  {
   "cell_type": "code",
   "execution_count": 17,
   "metadata": {},
   "outputs": [
    {
     "name": "stdout",
     "output_type": "stream",
     "text": [
      "100 0.6334285714285715 0.04222926304822728\n",
      "200 0.7328 0.029861904382228074\n",
      "300 0.7773333333333333 0.0351645163464044\n",
      "400 0.786 0.06669999167083072\n"
     ]
    }
   ],
   "source": [
    "results = pd.read_csv('results/DISEQuA_cnn_ENG.csv')\n",
    "for train_size in results.train_size.unique():\n",
    "    print(train_size, results[results.train_size == train_size].accuracy.mean(), results[results.train_size == train_size].accuracy.std())"
   ]
  },
  {
   "cell_type": "markdown",
   "metadata": {},
   "source": [
    "#### DUT"
   ]
  },
  {
   "cell_type": "code",
   "execution_count": 16,
   "metadata": {},
   "outputs": [
    {
     "name": "stdout",
     "output_type": "stream",
     "text": [
      "100 0.5831428571428572 0.03913926527373502\n",
      "200 0.7084 0.0315777699585572\n",
      "300 0.7386666666666667 0.03092004823275747\n",
      "400 0.806 0.08058122196475635\n"
     ]
    }
   ],
   "source": [
    "results = pd.read_csv('results/DISEQuA_cnn_DUT.csv')\n",
    "for train_size in results.train_size.unique():\n",
    "    print(train_size, results[results.train_size == train_size].accuracy.mean(), results[results.train_size == train_size].accuracy.std())"
   ]
  },
  {
   "cell_type": "markdown",
   "metadata": {},
   "source": [
    "#### ITA"
   ]
  },
  {
   "cell_type": "code",
   "execution_count": 18,
   "metadata": {},
   "outputs": [
    {
     "name": "stdout",
     "output_type": "stream",
     "text": [
      "100 0.5674285714285714 0.03634553249611707\n",
      "200 0.7112 0.02205447800334438\n",
      "300 0.7546666666666666 0.04397530171009435\n",
      "400 0.8019999999999999 0.056134758493389024\n"
     ]
    }
   ],
   "source": [
    "results = pd.read_csv('results/DISEQuA_cnn_ITA.csv')\n",
    "for train_size in results.train_size.unique():\n",
    "    print(train_size, results[results.train_size == train_size].accuracy.mean(), results[results.train_size == train_size].accuracy.std())"
   ]
  },
  {
   "cell_type": "markdown",
   "metadata": {},
   "source": [
    "#### SPA"
   ]
  },
  {
   "cell_type": "code",
   "execution_count": 19,
   "metadata": {
    "scrolled": true
   },
   "outputs": [
    {
     "name": "stdout",
     "output_type": "stream",
     "text": [
      "100 0.5617142857142857 0.026741391901251646\n",
      "200 0.6984 0.02707684537673395\n",
      "300 0.7526666666666667 0.030864098765274055\n",
      "400 0.788 0.05349974039397032\n"
     ]
    }
   ],
   "source": [
    "results = pd.read_csv('results/DISEQuA_cnn_SPA.csv')\n",
    "for train_size in results.train_size.unique():\n",
    "    print(train_size, results[results.train_size == train_size].accuracy.mean(), results[results.train_size == train_size].accuracy.std())"
   ]
  },
  {
   "cell_type": "code",
   "execution_count": null,
   "metadata": {},
   "outputs": [],
   "source": []
  },
  {
   "cell_type": "code",
   "execution_count": null,
   "metadata": {},
   "outputs": [],
   "source": []
  },
  {
   "cell_type": "code",
   "execution_count": null,
   "metadata": {},
   "outputs": [],
   "source": []
  },
  {
   "cell_type": "code",
   "execution_count": null,
   "metadata": {},
   "outputs": [],
   "source": []
  },
  {
   "cell_type": "code",
   "execution_count": 88,
   "metadata": {},
   "outputs": [],
   "source": []
  },
  {
   "cell_type": "code",
   "execution_count": 4,
   "metadata": {},
   "outputs": [],
   "source": [
    "def get_accuracy(path, sizes=[1000, 2000, 3000, 4000, 5500]):\n",
    "    df = pd.read_csv(path)\n",
    "    acc = []\n",
    "    for size in sizes:\n",
    "        acc.append(df[df.train_size == size].accuracy.mean())\n",
    "    return acc"
   ]
  },
  {
   "cell_type": "code",
   "execution_count": 310,
   "metadata": {},
   "outputs": [
    {
     "ename": "NameError",
     "evalue": "name 'get_accuracy' is not defined",
     "output_type": "error",
     "traceback": [
      "\u001b[0;31m---------------------------------------------------------------------------\u001b[0m",
      "\u001b[0;31mNameError\u001b[0m                                 Traceback (most recent call last)",
      "\u001b[0;32m<ipython-input-310-3edb855000b4>\u001b[0m in \u001b[0;36m<module>\u001b[0;34m\u001b[0m\n\u001b[0;32m----> 1\u001b[0;31m \u001b[0msvm_eng\u001b[0m \u001b[0;34m=\u001b[0m \u001b[0mget_accuracy\u001b[0m\u001b[0;34m(\u001b[0m\u001b[0;34m'results/UIUC_svm_tfidf_en.csv'\u001b[0m\u001b[0;34m)\u001b[0m\u001b[0;34m\u001b[0m\u001b[0;34m\u001b[0m\u001b[0m\n\u001b[0m\u001b[1;32m      2\u001b[0m \u001b[0msvm_spa\u001b[0m \u001b[0;34m=\u001b[0m \u001b[0mget_accuracy\u001b[0m\u001b[0;34m(\u001b[0m\u001b[0;34m'results/UIUC_svm_tfidf_es.csv'\u001b[0m\u001b[0;34m)\u001b[0m\u001b[0;34m\u001b[0m\u001b[0;34m\u001b[0m\u001b[0m\n\u001b[1;32m      3\u001b[0m \u001b[0msvm_por\u001b[0m \u001b[0;34m=\u001b[0m \u001b[0mget_accuracy\u001b[0m\u001b[0;34m(\u001b[0m\u001b[0;34m'results/UIUC_svm_tfidf_pt.csv'\u001b[0m\u001b[0;34m)\u001b[0m\u001b[0;34m\u001b[0m\u001b[0;34m\u001b[0m\u001b[0m\n\u001b[1;32m      4\u001b[0m \u001b[0;34m\u001b[0m\u001b[0m\n\u001b[1;32m      5\u001b[0m \u001b[0mlstm_eng\u001b[0m \u001b[0;34m=\u001b[0m \u001b[0mget_accuracy\u001b[0m\u001b[0;34m(\u001b[0m\u001b[0;34m'results/UIUC_lstm_embedding_en.csv'\u001b[0m\u001b[0;34m)\u001b[0m\u001b[0;34m\u001b[0m\u001b[0;34m\u001b[0m\u001b[0m\n",
      "\u001b[0;31mNameError\u001b[0m: name 'get_accuracy' is not defined"
     ]
    }
   ],
   "source": [
    "svm_eng = get_accuracy('results/UIUC_svm_tfidf_en.csv')\n",
    "svm_spa = get_accuracy('results/UIUC_svm_tfidf_es.csv')\n",
    "svm_por = get_accuracy('results/UIUC_svm_tfidf_pt.csv')\n",
    "\n",
    "lstm_eng = get_accuracy('results/UIUC_lstm_embedding_en.csv')\n",
    "lstm_spa = get_accuracy('results/UIUC_lstm_embedding_es_2.csv')\n",
    "lstm_por = get_accuracy('results/UIUC_lstm_embedding_pt.csv')\n",
    "\n",
    "cnn_eng = get_accuracy('results/UIUC_cnn_en.csv')\n",
    "cnn_spa = get_accuracy('results/UIUC_cnn_es.csv')\n",
    "cnn_por = cnn_pt = [0.819, 0.855, 0.859, 0.881, 0.881]\n",
    "\n",
    "fig, axes = plt.subplots(2, constrained_layout=False)\n",
    "\n",
    "plt.subplot(2, 2, 1)\n",
    "plt.plot(['1000', '2000', '3000', '4000', '5500'], lstm_eng, linewidth=1, color='blue')\n",
    "plt.plot(['1000', '2000', '3000', '4000', '5500'], cnn_eng, linewidth=1, color='red')\n",
    "plt.plot(['1000', '2000', '3000', '4000', '5500'], svm_eng, linewidth=1, color='green')\n",
    "plt.title('English')\n",
    "\n",
    "plt.subplot(2, 2, 2)\n",
    "plt.plot(['1000', '2000', '3000', '4000', '5500'], lstm_por, linewidth=1, color='blue')\n",
    "plt.plot(['1000', '2000', '3000', '4000', '5500'], cnn_por, linewidth=1, color='red')\n",
    "plt.plot(['1000', '2000', '3000', '4000', '5500'], svm_por, linewidth=1, color='green')\n",
    "plt.title('Portuguese')\n",
    "\n",
    "plt.subplot(2, 2, 3)\n",
    "plt.plot(['1000', '2000', '3000', '4000', '5500'], lstm_spa, linewidth=1, color='blue')\n",
    "plt.plot(['1000', '2000', '3000', '4000', '5500'], cnn_spa, linewidth=1, color='red')\n",
    "plt.plot(['1000', '2000', '3000', '4000', '5500'], svm_spa, linewidth=1, color='green')\n",
    "plt.title('Spanish')\n",
    "\n",
    "plt.tight_layout()\n",
    "plt.legend(['LSTM', 'CNN', 'SVM'], loc='center right', bbox_to_anchor=(1.55, 0.5))\n",
    "plt.savefig('plt_uiuc.eps', dpi=100, format='eps')"
   ]
  },
  {
   "cell_type": "code",
   "execution_count": 9,
   "metadata": {},
   "outputs": [
    {
     "data": {
      "image/png": "[encoded data removed]",
      "text/plain": [
       "<Figure size 432x288 with 4 Axes>"
      ]
     },
     "metadata": {
      "needs_background": "light"
     },
     "output_type": "display_data"
    }
   ],
   "source": [
    "from matplotlib.font_manager import FontProperties\n",
    "\n",
    "fontP = FontProperties()\n",
    "fontP.set_size('small')\n",
    "\n",
    "\n",
    "lstm_dut = get_accuracy('results/DISEQuA_lstm_embedding_DUT.csv', sizes=[100, 200, 300, 400])\n",
    "lstm_eng = get_accuracy('results/DISEQuA_lstm_embedding_ENG.csv', sizes=[100, 200, 300, 400])\n",
    "lstm_ita = get_accuracy('results/DISEQuA_lstm_embedding_ITA.csv', sizes=[100, 200, 300, 400])\n",
    "lstm_spa = [0.639, 0.757, 0.799, 0.814]\n",
    "\n",
    "cnn_dut = get_accuracy('results/DISEQuA_cnn_DUT.csv', sizes=[100, 200, 300, 400])\n",
    "cnn_eng = get_accuracy('results/DISEQuA_cnn_ENG.csv', sizes=[100, 200, 300, 400])\n",
    "cnn_ita = get_accuracy('results/DISEQuA_cnn_ITA.csv', sizes=[100, 200, 300, 400])\n",
    "cnn_spa = get_accuracy('results/DISEQuA_cnn_SPA.csv', sizes=[100, 200, 300, 400])\n",
    "\n",
    "svm_dut = get_accuracy('results/DISEQuA_svm_tfidf_DUT.csv', sizes=[100, 200, 300, 400])\n",
    "svm_eng = get_accuracy('results/DISEQuA_svm_tfidf_ENG.csv', sizes=[100, 200, 300, 400])\n",
    "svm_ita = get_accuracy('results/DISEQuA_svm_tfidf_ITA.csv', sizes=[100, 200, 300, 400])\n",
    "svm_spa = get_accuracy('results/DISEQuA_svm_tfidf_SPA.csv', sizes=[100, 200, 300, 400])\n",
    "\n",
    "fig, axes = plt.subplots(2, 2, constrained_layout=False)\n",
    "\n",
    "plt.subplot(2, 2, 1)\n",
    "plt.plot(['100', '200', '300', '400'], lstm_dut, linewidth=1, color='blue')\n",
    "plt.plot(['100', '200', '300', '400'], cnn_dut, linewidth=1, color='red')\n",
    "plt.plot(['100', '200', '300', '400'], svm_dut, linewidth=1, color='green')\n",
    "plt.title('Duth')\n",
    "\n",
    "plt.subplot(2, 2, 2)\n",
    "plt.plot(['100', '200', '300', '400'], lstm_eng, linewidth=1, color='blue')\n",
    "plt.plot(['100', '200', '300', '400'], cnn_eng, linewidth=1, color='red')\n",
    "plt.plot(['100', '200', '300', '400'], svm_eng, linewidth=1, color='green')\n",
    "plt.title('English')\n",
    "\n",
    "plt.subplot(2, 2, 3)\n",
    "plt.plot(['100', '200', '300', '400'], lstm_ita, linewidth=1, color='blue')\n",
    "plt.plot(['100', '200', '300', '400'], cnn_ita, linewidth=1, color='red')\n",
    "plt.plot(['100', '200', '300', '400'], svm_ita, linewidth=1, color='green')\n",
    "plt.title('Italian')\n",
    "\n",
    "plt.subplot(2, 2, 4)\n",
    "plt.plot(['100', '200', '300', '400'], lstm_spa, linewidth=1, color='blue')\n",
    "plt.plot(['100', '200', '300', '400'], cnn_spa, linewidth=1, color='red')\n",
    "plt.plot(['100', '200', '300', '400'], svm_spa, linewidth=1, color='green')\n",
    "plt.title('Spanish')\n",
    "\n",
    "plt.tight_layout()\n",
    "plt.legend(['LSTM', 'CNN', 'SVM'])\n",
    "plt.savefig('plt_disequa.eps', dpi=100, format='eps')"
   ]
  },
  {
   "cell_type": "code",
   "execution_count": 114,
   "metadata": {},
   "outputs": [
    {
     "data": {
      "text/plain": [
       "[0.2042857142857143, nan, nan, nan]"
      ]
     },
     "execution_count": 114,
     "metadata": {},
     "output_type": "execute_result"
    }
   ],
   "source": [
    "lstm_spa"
   ]
  },
  {
   "cell_type": "code",
   "execution_count": 337,
   "metadata": {},
   "outputs": [
    {
     "data": {
      "text/plain": [
       "array([  50,  100,  500, 1000, 1500, 2000, 2500, 3000, 3500, 4000, 4500,\n",
       "       5000, 5500])"
      ]
     },
     "execution_count": 337,
     "metadata": {},
     "output_type": "execute_result"
    }
   ],
   "source": [
    "df_pt_h.train_size.unique()"
   ]
  },
  {
   "cell_type": "code",
   "execution_count": 356,
   "metadata": {},
   "outputs": [
    {
     "data": {
      "image/png": "[encoded data removed]",
      "text/plain": [
       "<Figure size 720x216 with 3 Axes>"
      ]
     },
     "metadata": {
      "needs_background": "light"
     },
     "output_type": "display_data"
    }
   ],
   "source": [
    "from matplotlib.font_manager import FontProperties\n",
    "\n",
    "fontP = FontProperties()\n",
    "fontP.set_size('small')\n",
    "\n",
    "\n",
    "df_en_l = results = pd.read_csv('results/UIUC_cv_svm_tfidf_en.csv')\n",
    "df_en_m = results = pd.read_csv('results/UIUC_cv_svm_cortes_en.csv')\n",
    "df_en_h = results = pd.read_csv('results/UIUC_cv_svm_high_en.csv')\n",
    "\n",
    "df_es_l = results = pd.read_csv('results/UIUC_cv_svm_tfidf_es.csv')\n",
    "df_es_m = results = pd.read_csv('results/UIUC_cv_svm_cortes_es.csv')\n",
    "df_es_h = results = pd.read_csv('results/UIUC_cv_svm_high_es.csv')\n",
    "\n",
    "df_pt_l = results = pd.read_csv('results/UIUC_cv_svm_tfidf_pt.csv')\n",
    "df_pt_m = results = pd.read_csv('results/UIUC_cv_svm_cortes_pt.csv')\n",
    "df_pt_h = results = pd.read_csv('results/UIUC_cv_svm_high_pt.csv')\n",
    "\n",
    "sizes = [100, 500, 1000, 1500, 2000, 2500, 3000, 3500, 4000, 4500, 5000, 5500]\n",
    "#sizes = df_pt_h.train_size.unique()\n",
    "\n",
    "r_en_l = []\n",
    "r_en_m = []\n",
    "r_en_h = []\n",
    "\n",
    "r_es_l = []\n",
    "r_es_m = []\n",
    "r_es_h = []\n",
    "\n",
    "r_pt_l = []\n",
    "r_pt_m = []\n",
    "r_pt_h = []\n",
    "for train_size in sizes:\n",
    "    r_en_l.append(df_en_l[df_en_l.train_size == train_size].accuracy.mean())\n",
    "    r_en_m.append(df_en_m[df_en_m.train_size == train_size].accuracy.mean())\n",
    "    r_en_h.append(df_en_h[df_en_h.train_size == train_size].accuracy.mean())\n",
    "    \n",
    "    r_es_l.append(df_es_l[df_es_l.train_size == train_size].accuracy.mean())\n",
    "    r_es_m.append(df_es_m[df_es_m.train_size == train_size].accuracy.mean())\n",
    "    r_es_h.append(df_es_h[df_es_h.train_size == train_size].accuracy.mean())\n",
    "    \n",
    "    r_pt_l.append(df_pt_l[df_pt_l.train_size == train_size].accuracy.mean())\n",
    "    r_pt_m.append(df_pt_m[df_pt_m.train_size == train_size].accuracy.mean())\n",
    "    r_pt_h.append(df_pt_h[df_pt_h.train_size == train_size].accuracy.mean())\n",
    "    \n",
    "fig, axes = plt.subplots(1, 3, constrained_layout=False, figsize=(10,3))\n",
    "#fig.figsize = (100, 1000)\n",
    "plt.subplot(1, 3, 1)\n",
    "plt.plot(sizes, r_en_l, linewidth=1., color='#007700')\n",
    "plt.plot(sizes, r_en_m, linewidth=1., color='#0055CC')\n",
    "plt.plot(sizes, r_en_h, linewidth=1., color='#FF5500')\n",
    "plt.xticks([500, 1500, 2500, 3500, 4500, 5500])\n",
    "plt.title('English')\n",
    "plt.legend(['SVM Low', 'SVM Medium', 'SVM High'], loc='lower right')\n",
    "\n",
    "plt.subplot(1, 3, 2)\n",
    "plt.plot(sizes, r_pt_l, linewidth=1., color='#007700')\n",
    "plt.plot(sizes, r_pt_m, linewidth=1., color='#0055CC')\n",
    "plt.plot(sizes, r_pt_h, linewidth=1., color='#FF5500')\n",
    "plt.xticks([500, 1500, 2500, 3500, 4500, 5500])\n",
    "plt.title('Portuguese')\n",
    "\n",
    "plt.subplot(1, 3, 3)\n",
    "plt.plot(sizes, r_es_l, linewidth=1., color='#007700')\n",
    "plt.plot(sizes, r_es_m, linewidth=1., color='#0055CC')\n",
    "plt.plot(sizes, r_es_h, linewidth=1., color='#FF5500')\n",
    "plt.xticks([500, 1500, 2500, 3500, 4500, 5500])\n",
    "plt.title('Spanish')\n",
    "\n",
    "plt.tight_layout()\n",
    "plt.savefig('plt_uiuc_svm.eps', dpi=100, format='eps')"
   ]
  },
  {
   "cell_type": "code",
   "execution_count": 361,
   "metadata": {},
   "outputs": [
    {
     "data": {
      "image/png": "[encoded data removed]",
      "text/plain": [
       "<Figure size 576x432 with 4 Axes>"
      ]
     },
     "metadata": {
      "needs_background": "light"
     },
     "output_type": "display_data"
    }
   ],
   "source": [
    "from matplotlib.font_manager import FontProperties\n",
    "\n",
    "fontP = FontProperties()\n",
    "fontP.set_size('small')\n",
    "\n",
    "\n",
    "df_en_l = results = pd.read_csv('results/DISEQuA_svm_tfidf_en.csv')\n",
    "df_en_m = results = pd.read_csv('results/DISEQuA_svm_cortes_en.csv')\n",
    "df_en_h = results = pd.read_csv('results/DISEQuA_svm_high_en.csv')\n",
    "\n",
    "df_es_l = results = pd.read_csv('results/DISEQuA_svm_tfidf_es.csv')\n",
    "df_es_m = results = pd.read_csv('results/DISEQuA_svm_cortes_es.csv')\n",
    "df_es_h = results = pd.read_csv('results/DISEQuA_svm_high_es.csv')\n",
    "\n",
    "df_it_l = results = pd.read_csv('results/DISEQuA_svm_tfidf_it.csv')\n",
    "df_it_m = results = pd.read_csv('results/DISEQuA_svm_cortes_it.csv')\n",
    "df_it_h = results = pd.read_csv('results/DISEQuA_svm_high_it.csv')\n",
    "\n",
    "df_nl_l = results = pd.read_csv('results/DISEQuA_svm_tfidf_nl.csv')\n",
    "df_nl_m = results = pd.read_csv('results/DISEQuA_svm_cortes_nl.csv')\n",
    "df_nl_h = results = pd.read_csv('results/DISEQuA_svm_high_nl.csv')\n",
    "\n",
    "#sizes = [100, 500, 1000, 1500, 2000, 2500, 3000, 3500, 4000, 4500, 5000, 5500]\n",
    "sizes = df_nl_h.train_size.unique()\n",
    "\n",
    "r_en_l = []\n",
    "r_en_m = []\n",
    "r_en_h = []\n",
    "\n",
    "r_es_l = []\n",
    "r_es_m = []\n",
    "r_es_h = []\n",
    "\n",
    "r_it_l = []\n",
    "r_it_m = []\n",
    "r_it_h = []\n",
    "\n",
    "r_nl_l = []\n",
    "r_nl_m = []\n",
    "r_nl_h = []\n",
    "\n",
    "for train_size in sizes:\n",
    "    r_en_l.append(df_en_l[df_en_l.train_size == train_size].accuracy.mean())\n",
    "    r_en_m.append(df_en_m[df_en_m.train_size == train_size].accuracy.mean())\n",
    "    r_en_h.append(df_en_h[df_en_h.train_size == train_size].accuracy.mean())\n",
    "    \n",
    "    r_es_l.append(df_es_l[df_es_l.train_size == train_size].accuracy.mean())\n",
    "    r_es_m.append(df_es_m[df_es_m.train_size == train_size].accuracy.mean())\n",
    "    r_es_h.append(df_es_h[df_es_h.train_size == train_size].accuracy.mean())\n",
    "    \n",
    "    r_it_l.append(df_it_l[df_it_l.train_size == train_size].accuracy.mean())\n",
    "    r_it_m.append(df_it_m[df_it_m.train_size == train_size].accuracy.mean())\n",
    "    r_it_h.append(df_it_h[df_it_h.train_size == train_size].accuracy.mean())\n",
    "    \n",
    "    r_nl_l.append(df_nl_l[df_nl_l.train_size == train_size].accuracy.mean())\n",
    "    r_nl_m.append(df_nl_m[df_nl_m.train_size == train_size].accuracy.mean())\n",
    "    r_nl_h.append(df_nl_h[df_nl_h.train_size == train_size].accuracy.mean())\n",
    "    \n",
    "fig, axes = plt.subplots(2, 2, constrained_layout=False, figsize=(8,6))\n",
    "\n",
    "plt.subplot(2, 2, 1)\n",
    "plt.plot(sizes, r_nl_l, linewidth=1., color='#007700')\n",
    "plt.plot(sizes, r_nl_m, linewidth=1., color='#0055CC')\n",
    "plt.plot(sizes, r_nl_h, linewidth=1., color='#FF5500')\n",
    "#plt.xticks([500, 1500, 2500, 3500, 4500, 5500])\n",
    "plt.title('Dutch')\n",
    "plt.legend(['SVM Low', 'SVM Medium', 'SVM High'], loc='lower right')\n",
    "\n",
    "plt.subplot(2, 2, 2)\n",
    "plt.plot(sizes, r_en_l, linewidth=1., color='#007700')\n",
    "plt.plot(sizes, r_en_m, linewidth=1., color='#0055CC')\n",
    "plt.plot(sizes, r_en_h, linewidth=1., color='#FF5500')\n",
    "#plt.xticks([500, 1500, 2500, 3500, 4500, 5500])\n",
    "plt.title('English')\n",
    "\n",
    "plt.subplot(2, 2, 3)\n",
    "plt.plot(sizes, r_it_l, linewidth=1., color='#007700')\n",
    "plt.plot(sizes, r_it_m, linewidth=1., color='#0055CC')\n",
    "plt.plot(sizes, r_it_h, linewidth=1., color='#FF5500')\n",
    "#plt.xticks([500, 1500, 2500, 3500, 4500, 5500])\n",
    "plt.title('Italian')\n",
    "\n",
    "plt.subplot(2, 2, 4)\n",
    "plt.plot(sizes, r_es_l, linewidth=1., color='#007700')\n",
    "plt.plot(sizes, r_es_m, linewidth=1., color='#0055CC')\n",
    "plt.plot(sizes, r_es_h, linewidth=1., color='#FF5500')\n",
    "#plt.xticks([500, 1500, 2500, 3500, 4500, 5500])\n",
    "plt.title('Spanish')\n",
    "\n",
    "plt.tight_layout()\n",
    "plt.savefig('plt_disequa_svm.eps', dpi=100, format='eps')"
   ]
  }
 ],
 "metadata": {
  "kernelspec": {
   "display_name": "qa",
   "language": "python",
   "name": "qa"
  },
  "language_info": {
   "codemirror_mode": {
    "name": "ipython",
    "version": 3
   },
   "file_extension": ".py",
   "mimetype": "text/x-python",
   "name": "python",
   "nbconvert_exporter": "python",
   "pygments_lexer": "ipython3",
   "version": "3.6.7"
  }
 },
 "nbformat": 4,
 "nbformat_minor": 2
}
