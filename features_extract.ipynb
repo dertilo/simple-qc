{
 "cells": [
  {
   "cell_type": "markdown",
   "metadata": {},
   "source": [
    "## Features Extract from UIUC and DISEQuA collections"
   ]
  },
  {
   "cell_type": "code",
   "execution_count": 1,
   "metadata": {},
   "outputs": [],
   "source": [
    "import pandas as pd\n",
    "import spacy\n",
    "\n",
    "\n",
    "nlp_en = spacy.load(\"en_core_web_sm\")\n",
    "nlp_es = spacy.load(\"es_core_news_sm\")\n",
    "nlp_pt = spacy.load(\"pt_core_news_sm\")\n",
    "nlp_it = spacy.load(\"it_core_news_sm\")\n",
    "nlp_nl = spacy.load(\"nl_core_news_sm\")"
   ]
  },
  {
   "cell_type": "markdown",
   "metadata": {},
   "source": [
    "### DISEQuA"
   ]
  },
  {
   "cell_type": "code",
   "execution_count": 2,
   "metadata": {},
   "outputs": [],
   "source": [
    "df = pd.read_csv('datasets/DISEQuA/disequa.csv')"
   ]
  },
  {
   "cell_type": "markdown",
   "metadata": {},
   "source": [
    "#### Pos Tag and Entity Type"
   ]
  },
  {
   "cell_type": "code",
   "execution_count": 4,
   "metadata": {},
   "outputs": [],
   "source": [
    "pos = []\n",
    "ent = []\n",
    "\n",
    "for question, language in zip(df.question, df.language):\n",
    "    if language == \"DUT\":\n",
    "        q = nlp_nl(question)\n",
    "    elif language == \"ENG\":\n",
    "        q = nlp_en(question)\n",
    "    elif language == \"ITA\":\n",
    "        q = nlp_it(question)\n",
    "    elif language == \"SPA\":\n",
    "        q = nlp_es(question)\n",
    "    else:\n",
    "        print(\"Language not found:\", language)\n",
    "        break\n",
    "    pos.append([w.pos_ for w in q])\n",
    "    ent.append([w.ent_type_ for w in q])\n",
    "    \n",
    "df['pos'] = pos\n",
    "df['ent'] = ent"
   ]
  },
  {
   "cell_type": "markdown",
   "metadata": {},
   "source": [
    "#### Save"
   ]
  },
  {
   "cell_type": "code",
   "execution_count": null,
   "metadata": {},
   "outputs": [],
   "source": [
    "df.to_csv('datasets/DISEQuA/disequa_features.csv')"
   ]
  },
  {
   "cell_type": "markdown",
   "metadata": {},
   "source": [
    "### UIUC"
   ]
  },
  {
   "cell_type": "markdown",
   "metadata": {},
   "source": [
    "#### Pos Tag and Entity Type"
   ]
  },
  {
   "cell_type": "code",
   "execution_count": 18,
   "metadata": {},
   "outputs": [],
   "source": [
    "for lang in ['en', 'es', 'pt']:\n",
    "    \n",
    "    df_train = pd.read_csv('datasets/UIUC_'+lang+'/train.csv')\n",
    "    df_test = pd.read_csv('datasets/UIUC_'+lang+'/test.csv')\n",
    "    \n",
    "    if lang == 'en':\n",
    "        nlp = nlp_en\n",
    "    elif lang == 'es':\n",
    "        nlp = nlp_es\n",
    "    else:\n",
    "        nlp = nlp_pt\n",
    "    \n",
    "    pos = []\n",
    "    ent = []\n",
    "    for question in df_train.question:\n",
    "        q = nlp(question)\n",
    "        pos.append([w.pos_ for w in q])\n",
    "        ent.append([w.ent_type_ for w in q])\n",
    "    df_train['pos'] = pos\n",
    "    df_train['ent'] = ent\n",
    "    df_train.to_csv('datasets/UIUC_'+lang+'/train_features.csv')\n",
    "    \n",
    "    pos = []\n",
    "    ent = []\n",
    "    for question in df_test.question:\n",
    "        q = nlp(question)\n",
    "        pos.append([w.pos_ for w in q])\n",
    "        ent.append([w.ent_type_ for w in q])\n",
    "    df_test['pos'] = pos\n",
    "    df_test['ent'] = ent\n",
    "    df_test.to_csv('datasets/UIUC_'+lang+'/test_features.csv')"
   ]
  },
  {
   "cell_type": "code",
   "execution_count": null,
   "metadata": {},
   "outputs": [],
   "source": []
  }
 ],
 "metadata": {
  "kernelspec": {
   "display_name": "qa",
   "language": "python",
   "name": "qa"
  },
  "language_info": {
   "codemirror_mode": {
    "name": "ipython",
    "version": 3
   },
   "file_extension": ".py",
   "mimetype": "text/x-python",
   "name": "python",
   "nbconvert_exporter": "python",
   "pygments_lexer": "ipython3",
   "version": "3.6.7"
  }
 },
 "nbformat": 4,
 "nbformat_minor": 2
}
