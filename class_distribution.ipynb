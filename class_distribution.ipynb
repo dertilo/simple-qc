{
 "cells": [
  {
   "cell_type": "code",
   "execution_count": 1,
   "metadata": {},
   "outputs": [],
   "source": [
    "import pandas as pd"
   ]
  },
  {
   "cell_type": "code",
   "execution_count": 26,
   "metadata": {},
   "outputs": [],
   "source": [
    "df = pd.read_csv('datasets/DISEQuA/disequa.csv')"
   ]
  },
  {
   "cell_type": "code",
   "execution_count": 23,
   "metadata": {},
   "outputs": [],
   "source": [
    "classes = {}\n",
    "subclasses = {}\n",
    "\n",
    "for c, s in zip(df['class'], df['sub_class']):\n",
    "    if c not in classes:\n",
    "        classes[c] = 0\n",
    "    if c not in subclasses:\n",
    "        subclasses[c] = {}\n",
    "    if s not in subclasses[c]:\n",
    "        subclasses[c][s] = 0\n",
    "    classes[c] += 1\n",
    "    subclasses[c][s] += 1"
   ]
  },
  {
   "cell_type": "code",
   "execution_count": 37,
   "metadata": {},
   "outputs": [],
   "source": [
    "classes = {}\n",
    "\n",
    "for c, s in zip(df['class'], df['language']):\n",
    "    if s != 'ENG':\n",
    "        continue\n",
    "    if c not in classes:\n",
    "        classes[c] = 0\n",
    "    classes[c] += 1"
   ]
  },
  {
   "cell_type": "code",
   "execution_count": 38,
   "metadata": {},
   "outputs": [
    {
     "data": {
      "text/plain": [
       "{'DATE': 64,\n",
       " 'PERSON': 91,\n",
       " 'ORGANIZATION': 41,\n",
       " 'LOCATION': 85,\n",
       " 'OTHER': 54,\n",
       " 'MEASURE': 103,\n",
       " 'OBJECT': 12}"
      ]
     },
     "execution_count": 38,
     "metadata": {},
     "output_type": "execute_result"
    }
   ],
   "source": [
    "classes"
   ]
  },
  {
   "cell_type": "code",
   "execution_count": 24,
   "metadata": {},
   "outputs": [
    {
     "data": {
      "text/plain": [
       "{'NUM': 113, 'LOC': 81, 'HUM': 65, 'DESC': 138, 'ENTY': 94, 'ABBR': 9}"
      ]
     },
     "execution_count": 24,
     "metadata": {},
     "output_type": "execute_result"
    }
   ],
   "source": [
    "classes"
   ]
  },
  {
   "cell_type": "code",
   "execution_count": 21,
   "metadata": {},
   "outputs": [
    {
     "data": {
      "text/plain": [
       "['ABBR', 'DESC', 'ENTY', 'HUM', 'LOC', 'NUM']"
      ]
     },
     "execution_count": 21,
     "metadata": {},
     "output_type": "execute_result"
    }
   ],
   "source": [
    "l = list(classes.keys())\n",
    "list.sort(l)\n",
    "l"
   ]
  },
  {
   "cell_type": "code",
   "execution_count": 25,
   "metadata": {
    "scrolled": false
   },
   "outputs": [
    {
     "data": {
      "text/plain": [
       "{'NUM': {'dist': 16,\n",
       "  'date': 47,\n",
       "  'weight': 4,\n",
       "  'other': 12,\n",
       "  'speed': 6,\n",
       "  'temp': 5,\n",
       "  'period': 8,\n",
       "  'count': 9,\n",
       "  'money': 3,\n",
       "  'perc': 3},\n",
       " 'LOC': {'city': 18, 'other': 50, 'mount': 3, 'state': 7, 'country': 3},\n",
       " 'HUM': {'desc': 3, 'gr': 6, 'ind': 55, 'title': 1},\n",
       " 'DESC': {'def': 123, 'reason': 6, 'desc': 7, 'manner': 2},\n",
       " 'ENTY': {'plant': 5,\n",
       "  'substance': 15,\n",
       "  'animal': 16,\n",
       "  'food': 4,\n",
       "  'termeq': 7,\n",
       "  'currency': 6,\n",
       "  'event': 2,\n",
       "  'other': 12,\n",
       "  'color': 10,\n",
       "  'product': 4,\n",
       "  'body': 2,\n",
       "  'veh': 4,\n",
       "  'lang': 2,\n",
       "  'instru': 1,\n",
       "  'dismed': 2,\n",
       "  'sport': 1,\n",
       "  'techmeth': 1},\n",
       " 'ABBR': {'abb': 1, 'exp': 8}}"
      ]
     },
     "execution_count": 25,
     "metadata": {},
     "output_type": "execute_result"
    }
   ],
   "source": [
    "subclasses"
   ]
  },
  {
   "cell_type": "code",
   "execution_count": null,
   "metadata": {},
   "outputs": [],
   "source": []
  }
 ],
 "metadata": {
  "kernelspec": {
   "display_name": "Python 3",
   "language": "python",
   "name": "python3"
  },
  "language_info": {
   "codemirror_mode": {
    "name": "ipython",
    "version": 3
   },
   "file_extension": ".py",
   "mimetype": "text/x-python",
   "name": "python",
   "nbconvert_exporter": "python",
   "pygments_lexer": "ipython3",
   "version": "3.6.7"
  }
 },
 "nbformat": 4,
 "nbformat_minor": 2
}
